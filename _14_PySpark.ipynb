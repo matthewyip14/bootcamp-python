{
 "cells": [
  {
   "cell_type": "code",
   "execution_count": 1,
   "id": "803a7be9",
   "metadata": {},
   "outputs": [
    {
     "name": "stderr",
     "output_type": "stream",
     "text": [
      "WARNING: Using incubator modules: jdk.incubator.vector\n",
      "Using Spark's default log4j profile: org/apache/spark/log4j2-defaults.properties\n",
      "25/08/11 19:33:03 WARN Utils: Your hostname, Yuns-MacBook-Pro.local, resolves to a loopback address: 127.0.0.1; using 192.168.7.96 instead (on interface en0)\n",
      "25/08/11 19:33:03 WARN Utils: Set SPARK_LOCAL_IP if you need to bind to another address\n",
      "25/08/11 19:33:03 WARN NativeCodeLoader: Unable to load native-hadoop library for your platform... using builtin-java classes where applicable\n",
      "Using Spark's default log4j profile: org/apache/spark/log4j2-defaults.properties\n",
      "Setting default log level to \"WARN\".\n",
      "To adjust logging level use sc.setLogLevel(newLevel). For SparkR, use setLogLevel(newLevel).\n"
     ]
    },
    {
     "name": "stdout",
     "output_type": "stream",
     "text": [
      "+---+-------+---+----------+-------+\n",
      "| id|   name|age|       dob| salary|\n",
      "+---+-------+---+----------+-------+\n",
      "|  1|   John| 13|2010-12-10|18000.0|\n",
      "|  2|Vincent| 27|2005-01-01|24000.0|\n",
      "|  3|  Lucas| 20|2017-01-31|34000.0|\n",
      "+---+-------+---+----------+-------+\n",
      "\n",
      "None\n",
      "+---+-------+---+----------+-------+\n",
      "| id|   name|age|       dob| salary|\n",
      "+---+-------+---+----------+-------+\n",
      "|  2|Vincent| 27|2005-01-01|24000.0|\n",
      "|  3|  Lucas| 20|2017-01-31|34000.0|\n",
      "+---+-------+---+----------+-------+\n",
      "\n",
      "None\n"
     ]
    }
   ],
   "source": [
    "from pyspark.sql import SparkSession\n",
    "\n",
    "spark_session = SparkSession.builder \\\n",
    "    .appName(\"PySpark JDBC Example\") \\\n",
    "    .config(\"spark.jars\", \"/Users/matthewyip/bootcamp-python/bootcamp-python/postgresql-42.7.7.jar\") \\\n",
    "    .getOrCreate()\n",
    "\n",
    "jdbc_url = \"jdbc:postgresql://localhost:5432/bootcamp_2504p\"\n",
    "\n",
    "connection_properties = {\n",
    "    \"user\": \"postgres\",\n",
    "    \"password\": \"admin1234\",\n",
    "    \"driver\": \"org.postgresql.Driver\"\n",
    "}\n",
    "\n",
    "# select * from persons\n",
    "df_all_persons = spark_session.read.jdbc(url=jdbc_url, table=\"persons\", properties=connection_properties)\n",
    "print(df_all_persons.show())\n",
    "\n",
    "# select * from persons where age > 19\n",
    "query_sql_result = \"(select * from persons where age > 19) as result\"\n",
    "df_age_above_19_persons = spark_session.read.jdbc(url=jdbc_url, table=query_sql_result, properties=connection_properties)\n",
    "print(df_age_above_19_persons.show())"
   ]
  }
 ],
 "metadata": {
  "kernelspec": {
   "display_name": ".venv",
   "language": "python",
   "name": "python3"
  },
  "language_info": {
   "codemirror_mode": {
    "name": "ipython",
    "version": 3
   },
   "file_extension": ".py",
   "mimetype": "text/x-python",
   "name": "python",
   "nbconvert_exporter": "python",
   "pygments_lexer": "ipython3",
   "version": "3.13.5"
  }
 },
 "nbformat": 4,
 "nbformat_minor": 5
}
