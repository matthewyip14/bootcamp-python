{
 "cells": [
  {
   "cell_type": "code",
   "execution_count": 2,
   "id": "f5611b57",
   "metadata": {},
   "outputs": [
    {
     "name": "stdout",
     "output_type": "stream",
     "text": [
      "<class 'pandas.core.series.Series'>\n",
      "<class 'pandas.core.frame.DataFrame'>\n",
      "     name  age       city\n",
      "0   Jacky   20  Hong Kong\n",
      "1     Bob   10   New York\n",
      "2  Steven    5  Hong Kong\n"
     ]
    }
   ],
   "source": [
    "import pandas as pd\n",
    "\n",
    "# Series, DataFrame, Dictionary\n",
    "\n",
    "# list to series\n",
    "s = pd.Series([2, 8, -2, 10])\n",
    "print(type(s)) # <class 'pandas.core.series.Series'>\n",
    "\n",
    "# DataFrame \n",
    "dictionary = {\n",
    "  \"name\" : [\"Jacky\", \"Bob\", \"Steven\"],\n",
    "  \"age\" : [20, 10, 5],\n",
    "  \"city\" : [\"Hong Kong\", \"New York\", \"Hong Kong\"]\n",
    "  \"salary\" : [20000.5,]\n",
    "}\n",
    "\n",
    "# covert dictionary to DataFrame\n",
    "df = pd.DataFrame(dictionary)\n",
    "print(type(df)) # <class 'pandas.core.frame.DataFrame'>\n",
    "print(df)\n",
    "\n"
   ]
  },
  {
   "cell_type": "code",
   "execution_count": 8,
   "id": "8aa54ab4",
   "metadata": {},
   "outputs": [
    {
     "name": "stdout",
     "output_type": "stream",
     "text": [
      "     name  age             email   salary\n",
      "1     bob    9     bob@gmail.com  20000.0\n",
      "2  steven   13  steven@gmail.com   8000.0\n",
      "3    alex   40    alex@gmail.com  19500.0\n",
      "4   ricky   19   ricky@gmail.com  11000.0\n",
      "5     leo   23     leo@gmail.com  35000.0\n",
      "     name  age             email   salary\n",
      "0   jacky   27   jacky@gmail.com  19500.5\n",
      "1     bob    9     bob@gmail.com  20000.0\n",
      "2  steven   13  steven@gmail.com   8000.0\n",
      "3    alex   40    alex@gmail.com  19500.0\n",
      "4   ricky   19   ricky@gmail.com  11000.0\n",
      "<class 'pandas.core.frame.DataFrame'>\n",
      "RangeIndex: 6 entries, 0 to 5\n",
      "Data columns (total 4 columns):\n",
      " #   Column  Non-Null Count  Dtype  \n",
      "---  ------  --------------  -----  \n",
      " 0   name    6 non-null      object \n",
      " 1   age     6 non-null      int64  \n",
      " 2   email   6 non-null      object \n",
      " 3   salary  6 non-null      float64\n",
      "dtypes: float64(1), int64(1), object(2)\n",
      "memory usage: 324.0+ bytes\n",
      "None\n",
      "             age        salary\n",
      "count   6.000000      6.000000\n",
      "mean   21.833333  18833.416667\n",
      "std    11.034793   9405.679138\n",
      "min     9.000000   8000.000000\n",
      "25%    14.500000  13125.000000\n",
      "50%    21.000000  19500.250000\n",
      "75%    26.000000  19875.125000\n",
      "max    40.000000  35000.000000\n"
     ]
    }
   ],
   "source": [
    "df = pd.read_csv(\"staffs.csv\")  # read csv file\n",
    "\n",
    "print(df.tail())  # print last 5 rows\n",
    "print(df.head())  # print first 5 rows\n",
    "print(df.info())  # print shape of DataFrame\n",
    "print(df.describe())  # print summary statistics"
   ]
  },
  {
   "cell_type": "code",
   "execution_count": 15,
   "id": "239cbb43",
   "metadata": {},
   "outputs": [
    {
     "name": "stdout",
     "output_type": "stream",
     "text": [
      "0    19500.5\n",
      "1    20000.0\n",
      "2     8000.0\n",
      "3    19500.0\n",
      "4    11000.0\n",
      "5    35000.0\n",
      "Name: salary, dtype: float64\n",
      "0     jacky@gmail.com\n",
      "1       bob@gmail.com\n",
      "2    steven@gmail.com\n",
      "3      alex@gmail.com\n",
      "4     ricky@gmail.com\n",
      "5       leo@gmail.com\n",
      "Name: email, dtype: object\n",
      "              email    name\n",
      "0   jacky@gmail.com   jacky\n",
      "1     bob@gmail.com     bob\n",
      "2  steven@gmail.com  steven\n",
      "3    alex@gmail.com    alex\n",
      "4   ricky@gmail.com   ricky\n",
      "5     leo@gmail.com     leo\n"
     ]
    }
   ],
   "source": [
    "salary_series = df[\"salary\"]  # select salary column\n",
    "print(salary_series) # Series object\n",
    "\n",
    "# Dictionary: list, dictionary\n",
    "\n",
    "# Pandas: DataFrame consists of Series\n",
    "\n",
    "print(df[\"email\"])  # select email column\n",
    "print(df[[\"email\", \"name\"]])  # select multiple columns"
   ]
  },
  {
   "cell_type": "code",
   "execution_count": 23,
   "id": "afb7e233",
   "metadata": {},
   "outputs": [
    {
     "name": "stdout",
     "output_type": "stream",
     "text": [
      "0    False\n",
      "1    False\n",
      "2     True\n",
      "3     True\n",
      "4    False\n",
      "5     True\n",
      "Name: name, dtype: bool\n",
      "     name  age             email   salary\n",
      "2  steven   13  steven@gmail.com   8000.0\n",
      "3    alex   40    alex@gmail.com  19500.0\n",
      "5     leo   23     leo@gmail.com  35000.0\n",
      "     name             email\n",
      "2  steven  steven@gmail.com\n",
      "3    alex    alex@gmail.com\n",
      "5     leo     leo@gmail.com\n",
      "   name  age           email   salary\n",
      "3  alex   40  alex@gmail.com  19500.0\n"
     ]
    }
   ],
   "source": [
    "print(df[\"name\"].str.contains(\"e\"))\n",
    "\n",
    "print(df.loc[df[\"name\"].str.contains(\"e\")])\n",
    "print(df.loc[df[\"name\"].str.contains(\"e\"), [\"name\", \"email\"]])\n",
    "\n",
    "# Normal Python: if else -> and or\n",
    "\n",
    "# DataFrame:  -> & |\n",
    "print(df.loc[(df[\"name\"].str.contains(\"e\")) & (df[\"age\"] > 30)])\n"
   ]
  }
 ],
 "metadata": {
  "kernelspec": {
   "display_name": ".venv",
   "language": "python",
   "name": "python3"
  },
  "language_info": {
   "codemirror_mode": {
    "name": "ipython",
    "version": 3
   },
   "file_extension": ".py",
   "mimetype": "text/x-python",
   "name": "python",
   "nbconvert_exporter": "python",
   "pygments_lexer": "ipython3",
   "version": "3.13.5"
  }
 },
 "nbformat": 4,
 "nbformat_minor": 5
}
