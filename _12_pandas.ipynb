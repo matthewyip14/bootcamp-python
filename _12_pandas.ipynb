{
 "cells": [
  {
   "cell_type": "code",
   "execution_count": 3,
   "id": "f5611b57",
   "metadata": {},
   "outputs": [
    {
     "name": "stdout",
     "output_type": "stream",
     "text": [
      "<class 'pandas.core.series.Series'>\n",
      "<class 'pandas.core.frame.DataFrame'>\n",
      "     name  age       city\n",
      "0   Jacky   20  Hong Kong\n",
      "1     Bob   10   New York\n",
      "2  Steven    5  Hong Kong\n"
     ]
    }
   ],
   "source": [
    "import pandas as pd\n",
    "\n",
    "# Series, DataFrame, Dictionary\n",
    "\n",
    "# list to series\n",
    "s = pd.Series([2, 8, -2, 10])\n",
    "print(type(s)) # <class 'pandas.core.series.Series'>\n",
    "\n",
    "# DataFrame \n",
    "dictionary = {\n",
    "  \"name\" : [\"Jacky\", \"Bob\", \"Steven\"],\n",
    "  \"age\" : [20, 10, 5],\n",
    "  \"city\" : [\"Hong Kong\", \"New York\", \"Hong Kong\"]\n",
    "}\n",
    "\n",
    "# covert dictionary to DataFrame\n",
    "df = pd.DataFrame(dictionary)\n",
    "print(type(df)) # <class 'pandas.core.frame.DataFrame'>\n",
    "print(df)\n",
    "\n"
   ]
  },
  {
   "cell_type": "code",
   "execution_count": 8,
   "id": "8aa54ab4",
   "metadata": {},
   "outputs": [
    {
     "name": "stdout",
     "output_type": "stream",
     "text": [
      "     name  age             email   salary\n",
      "1     bob    9     bob@gmail.com  20000.0\n",
      "2  steven   13  steven@gmail.com   8000.0\n",
      "3    alex   40    alex@gmail.com  19500.0\n",
      "4   ricky   19   ricky@gmail.com  11000.0\n",
      "5     leo   23     leo@gmail.com  35000.0\n",
      "     name  age             email   salary\n",
      "0   jacky   27   jacky@gmail.com  19500.5\n",
      "1     bob    9     bob@gmail.com  20000.0\n",
      "2  steven   13  steven@gmail.com   8000.0\n",
      "3    alex   40    alex@gmail.com  19500.0\n",
      "4   ricky   19   ricky@gmail.com  11000.0\n",
      "<class 'pandas.core.frame.DataFrame'>\n",
      "RangeIndex: 6 entries, 0 to 5\n",
      "Data columns (total 4 columns):\n",
      " #   Column  Non-Null Count  Dtype  \n",
      "---  ------  --------------  -----  \n",
      " 0   name    6 non-null      object \n",
      " 1   age     6 non-null      int64  \n",
      " 2   email   6 non-null      object \n",
      " 3   salary  6 non-null      float64\n",
      "dtypes: float64(1), int64(1), object(2)\n",
      "memory usage: 324.0+ bytes\n",
      "None\n",
      "             age        salary\n",
      "count   6.000000      6.000000\n",
      "mean   21.833333  18833.416667\n",
      "std    11.034793   9405.679138\n",
      "min     9.000000   8000.000000\n",
      "25%    14.500000  13125.000000\n",
      "50%    21.000000  19500.250000\n",
      "75%    26.000000  19875.125000\n",
      "max    40.000000  35000.000000\n"
     ]
    }
   ],
   "source": [
    "df = pd.read_csv(\"staffs.csv\")  # read csv file\n",
    "\n",
    "print(df.tail())  # print last 5 rows\n",
    "print(df.head())  # print first 5 rows\n",
    "print(df.info())  # print shape of DataFrame\n",
    "print(df.describe())  # print summary statistics"
   ]
  },
  {
   "cell_type": "code",
   "execution_count": 15,
   "id": "239cbb43",
   "metadata": {},
   "outputs": [
    {
     "name": "stdout",
     "output_type": "stream",
     "text": [
      "0    19500.5\n",
      "1    20000.0\n",
      "2     8000.0\n",
      "3    19500.0\n",
      "4    11000.0\n",
      "5    35000.0\n",
      "Name: salary, dtype: float64\n",
      "0     jacky@gmail.com\n",
      "1       bob@gmail.com\n",
      "2    steven@gmail.com\n",
      "3      alex@gmail.com\n",
      "4     ricky@gmail.com\n",
      "5       leo@gmail.com\n",
      "Name: email, dtype: object\n",
      "              email    name\n",
      "0   jacky@gmail.com   jacky\n",
      "1     bob@gmail.com     bob\n",
      "2  steven@gmail.com  steven\n",
      "3    alex@gmail.com    alex\n",
      "4   ricky@gmail.com   ricky\n",
      "5     leo@gmail.com     leo\n"
     ]
    }
   ],
   "source": [
    "salary_series = df[\"salary\"]  # select salary column\n",
    "print(salary_series) # Series object\n",
    "\n",
    "# Dictionary: list, dictionary\n",
    "\n",
    "# Pandas: DataFrame consists of Series\n",
    "\n",
    "print(df[\"email\"])  # select email column\n",
    "print(df[[\"email\", \"name\"]])  # select multiple columns"
   ]
  },
  {
   "cell_type": "code",
   "execution_count": 23,
   "id": "afb7e233",
   "metadata": {},
   "outputs": [
    {
     "name": "stdout",
     "output_type": "stream",
     "text": [
      "0    False\n",
      "1    False\n",
      "2     True\n",
      "3     True\n",
      "4    False\n",
      "5     True\n",
      "Name: name, dtype: bool\n",
      "     name  age             email   salary\n",
      "2  steven   13  steven@gmail.com   8000.0\n",
      "3    alex   40    alex@gmail.com  19500.0\n",
      "5     leo   23     leo@gmail.com  35000.0\n",
      "     name             email\n",
      "2  steven  steven@gmail.com\n",
      "3    alex    alex@gmail.com\n",
      "5     leo     leo@gmail.com\n",
      "   name  age           email   salary\n",
      "3  alex   40  alex@gmail.com  19500.0\n"
     ]
    }
   ],
   "source": [
    "print(df[\"name\"].str.contains(\"e\"))\n",
    "\n",
    "print(df.loc[df[\"name\"].str.contains(\"e\")])\n",
    "print(df.loc[df[\"name\"].str.contains(\"e\"), [\"name\", \"email\"]])\n",
    "\n",
    "# Normal Python: if else -> and or\n",
    "\n",
    "# DataFrame:  -> & |\n",
    "print(df.loc[(df[\"name\"].str.contains(\"e\")) & (df[\"age\"] > 30)])\n"
   ]
  },
  {
   "cell_type": "code",
   "execution_count": 10,
   "id": "fd3d7b88",
   "metadata": {},
   "outputs": [
    {
     "name": "stdout",
     "output_type": "stream",
     "text": [
      "     PassengerId  Survived  Pclass  \\\n",
      "8              9         1       3   \n",
      "172          173         1       3   \n",
      "302          303         0       3   \n",
      "597          598         0       3   \n",
      "719          720         0       3   \n",
      "869          870         1       3   \n",
      "\n",
      "                                                  Name     Sex   Age  SibSp  \\\n",
      "8    Johnson, Mrs. Oscar W (Elisabeth Vilhelmina Berg)  female  27.0      0   \n",
      "172                       Johnson, Miss. Eleanor Ileen  female   1.0      1   \n",
      "302                    Johnson, Mr. William Cahoone Jr    male  19.0      0   \n",
      "597                                Johnson, Mr. Alfred    male  49.0      0   \n",
      "719                       Johnson, Mr. Malkolm Joackim    male  33.0      0   \n",
      "869                    Johnson, Master. Harold Theodor    male   4.0      1   \n",
      "\n",
      "     Parch  Ticket     Fare Cabin Embarked  \n",
      "8        2  347742  11.1333   NaN        S  \n",
      "172      1  347742  11.1333   NaN        S  \n",
      "302      0    LINE   0.0000   NaN        S  \n",
      "597      0    LINE   0.0000   NaN        S  \n",
      "719      0  347062   7.7750   NaN        S  \n",
      "869      1  347742  11.1333   NaN        S  \n"
     ]
    }
   ],
   "source": [
    "import pandas as pd\n",
    "\n",
    "url = \"https://raw.githubusercontent.com/datasciencedojo/datasets/master/titanic.csv\"\n",
    "df = pd.read_csv(url)\n",
    "# print(df.head())  # print first 5 rows of Titanic dataset\n",
    "\n",
    "# 1. Sex=male\n",
    "df_male = df[df['Sex'] == 'male']\n",
    "# print(df_male.head())  # print first 5 rows of male passengers\n",
    "# print(df_male)\n",
    "\n",
    "# 2. Names contains \"Johnson\"\n",
    "df_Names_Johnson = df[df['Name'].str.contains(\"Johnson\", case=False)]\n",
    "# print(df_Names_Johnson.head())  # print first 5 rows of passengers with \"Johnson\" in their names\n",
    "print(df_Names_Johnson)\n",
    "\n"
   ]
  },
  {
   "cell_type": "code",
   "execution_count": 11,
   "id": "7fa9fe93",
   "metadata": {},
   "outputs": [
    {
     "name": "stdout",
     "output_type": "stream",
     "text": [
      "     PassengerId  Survived  Pclass  \\\n",
      "1              2         1       1   \n",
      "3              4         1       1   \n",
      "11            12         1       1   \n",
      "15            16         1       2   \n",
      "18            19         0       3   \n",
      "..           ...       ...     ...   \n",
      "862          863         1       1   \n",
      "865          866         1       2   \n",
      "871          872         1       1   \n",
      "879          880         1       1   \n",
      "885          886         0       3   \n",
      "\n",
      "                                                  Name     Sex   Age  SibSp  \\\n",
      "1    Cumings, Mrs. John Bradley (Florence Briggs Th...  female  38.0      1   \n",
      "3         Futrelle, Mrs. Jacques Heath (Lily May Peel)  female  35.0      1   \n",
      "11                            Bonnell, Miss. Elizabeth  female  58.0      0   \n",
      "15                    Hewlett, Mrs. (Mary D Kingcome)   female  55.0      0   \n",
      "18   Vander Planke, Mrs. Julius (Emelia Maria Vande...  female  31.0      1   \n",
      "..                                                 ...     ...   ...    ...   \n",
      "862  Swift, Mrs. Frederick Joel (Margaret Welles Ba...  female  48.0      0   \n",
      "865                           Bystrom, Mrs. (Karolina)  female  42.0      0   \n",
      "871   Beckwith, Mrs. Richard Leonard (Sallie Monypeny)  female  47.0      1   \n",
      "879      Potter, Mrs. Thomas Jr (Lily Alexenia Wilson)  female  56.0      0   \n",
      "885               Rice, Mrs. William (Margaret Norton)  female  39.0      0   \n",
      "\n",
      "     Parch    Ticket     Fare Cabin Embarked  \n",
      "1        0  PC 17599  71.2833   C85        C  \n",
      "3        0    113803  53.1000  C123        S  \n",
      "11       0    113783  26.5500  C103        S  \n",
      "15       0    248706  16.0000   NaN        S  \n",
      "18       0    345763  18.0000   NaN        S  \n",
      "..     ...       ...      ...   ...      ...  \n",
      "862      0     17466  25.9292   D17        S  \n",
      "865      0    236852  13.0000   NaN        S  \n",
      "871      1     11751  52.5542   D35        S  \n",
      "879      1     11767  83.1583   C50        C  \n",
      "885      5    382652  29.1250   NaN        Q  \n",
      "\n",
      "[103 rows x 12 columns]\n"
     ]
    }
   ],
   "source": [
    "# Age > 30 & Sex = female\n",
    "print(df.loc[(df['Age'] > 30) & (df['Sex'] == 'female')])"
   ]
  },
  {
   "cell_type": "code",
   "execution_count": null,
   "id": "249de99d",
   "metadata": {},
   "outputs": [
    {
     "name": "stdout",
     "output_type": "stream",
     "text": [
      "   id              name   username                      email  \\\n",
      "0   1     Leanne Graham       Bret          Sincere@april.biz   \n",
      "1   2      Ervin Howell  Antonette          Shanna@melissa.tv   \n",
      "2   3  Clementine Bauch   Samantha         Nathan@yesenia.net   \n",
      "3   4  Patricia Lebsack   Karianne  Julianne.OConner@kory.org   \n",
      "4   5  Chelsey Dietrich     Kamren   Lucio_Hettinger@annie.ca   \n",
      "\n",
      "                                             address                  phone  \\\n",
      "0  {'street': 'Kulas Light', 'suite': 'Apt. 556',...  1-770-736-8031 x56442   \n",
      "1  {'street': 'Victor Plains', 'suite': 'Suite 87...    010-692-6593 x09125   \n",
      "2  {'street': 'Douglas Extension', 'suite': 'Suit...         1-463-123-4447   \n",
      "3  {'street': 'Hoeger Mall', 'suite': 'Apt. 692',...      493-170-9623 x156   \n",
      "4  {'street': 'Skiles Walks', 'suite': 'Suite 351...          (254)954-1289   \n",
      "\n",
      "         website                                            company  \n",
      "0  hildegard.org  {'name': 'Romaguera-Crona', 'catchPhrase': 'Mu...  \n",
      "1  anastasia.net  {'name': 'Deckow-Crist', 'catchPhrase': 'Proac...  \n",
      "2    ramiro.info  {'name': 'Romaguera-Jacobson', 'catchPhrase': ...  \n",
      "3       kale.biz  {'name': 'Robel-Corkery', 'catchPhrase': 'Mult...  \n",
      "4   demarco.info  {'name': 'Keebler LLC', 'catchPhrase': 'User-c...  \n"
     ]
    }
   ],
   "source": [
    "url = \"https://jsonplaceholder.typicode.com/users\"\n",
    "df = pd.read_json(url) # for single JSON structure\n",
    "# print(df.head())\n",
    "\n"
   ]
  },
  {
   "cell_type": "code",
   "execution_count": 18,
   "id": "41ff3780",
   "metadata": {},
   "outputs": [
    {
     "name": "stdout",
     "output_type": "stream",
     "text": [
      "<class 'requests.models.Response'>\n",
      "<class 'list'>\n",
      "   id              name   username                      email  \\\n",
      "0   1     Leanne Graham       Bret          Sincere@april.biz   \n",
      "1   2      Ervin Howell  Antonette          Shanna@melissa.tv   \n",
      "2   3  Clementine Bauch   Samantha         Nathan@yesenia.net   \n",
      "3   4  Patricia Lebsack   Karianne  Julianne.OConner@kory.org   \n",
      "4   5  Chelsey Dietrich     Kamren   Lucio_Hettinger@annie.ca   \n",
      "\n",
      "                   phone        website     address.street address.suite  \\\n",
      "0  1-770-736-8031 x56442  hildegard.org        Kulas Light      Apt. 556   \n",
      "1    010-692-6593 x09125  anastasia.net      Victor Plains     Suite 879   \n",
      "2         1-463-123-4447    ramiro.info  Douglas Extension     Suite 847   \n",
      "3      493-170-9623 x156       kale.biz        Hoeger Mall      Apt. 692   \n",
      "4          (254)954-1289   demarco.info       Skiles Walks     Suite 351   \n",
      "\n",
      "    address.city address.zipcode address.geo.lat address.geo.lng  \\\n",
      "0    Gwenborough      92998-3874        -37.3159         81.1496   \n",
      "1    Wisokyburgh      90566-7771        -43.9509        -34.4618   \n",
      "2  McKenziehaven      59590-4157        -68.6102        -47.0653   \n",
      "3    South Elvis      53919-4257         29.4572       -164.2990   \n",
      "4     Roscoeview           33263        -31.8129         62.5342   \n",
      "\n",
      "         company.name                       company.catchPhrase  \\\n",
      "0     Romaguera-Crona    Multi-layered client-server neural-net   \n",
      "1        Deckow-Crist            Proactive didactic contingency   \n",
      "2  Romaguera-Jacobson         Face to face bifurcated interface   \n",
      "3       Robel-Corkery  Multi-tiered zero tolerance productivity   \n",
      "4         Keebler LLC      User-centric fault-tolerant solution   \n",
      "\n",
      "                             company.bs  \n",
      "0           harness real-time e-markets  \n",
      "1      synergize scalable supply-chains  \n",
      "2       e-enable strategic applications  \n",
      "3  transition cutting-edge web services  \n",
      "4      revolutionize end-to-end systems  \n"
     ]
    }
   ],
   "source": [
    "import requests\n",
    "from pandas import json_normalize\n",
    "\n",
    "# url = \"https://jsonplaceholder.typicode.com/users\"\n",
    "# response = requests.get(url)\n",
    "# data = response.json()\n",
    "# df = json_normalize(data)\n",
    "\n",
    "url = \"https://jsonplaceholder.typicode.com/users\"\n",
    "response = requests.get(url)\n",
    "\n",
    "print(type(response))\n",
    "\n",
    "data = response.json()\n",
    "print(type(data))  # list / dictionary\n",
    "\n",
    "df = json_normalize(data)\n",
    "print(df.head())  # print first 5 rows of DataFrame"
   ]
  },
  {
   "cell_type": "code",
   "execution_count": 17,
   "id": "bc14c89c",
   "metadata": {},
   "outputs": [
    {
     "name": "stdout",
     "output_type": "stream",
     "text": [
      "   id          name   username              email                phone  \\\n",
      "1   2  Ervin Howell  Antonette  Shanna@melissa.tv  010-692-6593 x09125   \n",
      "\n",
      "         website address.street address.suite address.city address.zipcode  \\\n",
      "1  anastasia.net  Victor Plains     Suite 879  Wisokyburgh      90566-7771   \n",
      "\n",
      "  address.geo.lat address.geo.lng  company.name  \\\n",
      "1        -43.9509        -34.4618  Deckow-Crist   \n",
      "\n",
      "              company.catchPhrase                        company.bs  \n",
      "1  Proactive didactic contingency  synergize scalable supply-chains  \n"
     ]
    }
   ],
   "source": [
    "print(df.loc[df[\"address.street\"] == \"Victor Plains\"])"
   ]
  },
  {
   "cell_type": "code",
   "execution_count": 23,
   "id": "aed155e6",
   "metadata": {},
   "outputs": [
    {
     "name": "stdout",
     "output_type": "stream",
     "text": [
      "   id                      name       username                 email  \\\n",
      "1   2              Ervin Howell      Antonette     Shanna@melissa.tv   \n",
      "2   3          Clementine Bauch       Samantha    Nathan@yesenia.net   \n",
      "7   8  Nicholas Runolfsdottir V  Maxime_Nienow  Sherwood@rosamond.me   \n",
      "\n",
      "                 phone        website     address.street address.suite  \\\n",
      "1  010-692-6593 x09125  anastasia.net      Victor Plains     Suite 879   \n",
      "2       1-463-123-4447    ramiro.info  Douglas Extension     Suite 847   \n",
      "7    586.493.6943 x140   jacynthe.com   Ellsworth Summit     Suite 729   \n",
      "\n",
      "    address.city address.zipcode address.geo.lat address.geo.lng  \\\n",
      "1    Wisokyburgh      90566-7771        -43.9509        -34.4618   \n",
      "2  McKenziehaven      59590-4157        -68.6102        -47.0653   \n",
      "7      Aliyaview           45169        -14.3990       -120.7677   \n",
      "\n",
      "         company.name                company.catchPhrase  \\\n",
      "1        Deckow-Crist     Proactive didactic contingency   \n",
      "2  Romaguera-Jacobson  Face to face bifurcated interface   \n",
      "7     Abernathy Group      Implemented secondary concept   \n",
      "\n",
      "                         company.bs  \n",
      "1  synergize scalable supply-chains  \n",
      "2   e-enable strategic applications  \n",
      "7     e-enable extensible e-tailers  \n"
     ]
    }
   ],
   "source": [
    "# address geo lat < 0 and geo lng < 0\n",
    "# print(df.loc[(df[\"address.geo.lat\"] < 0) & (df[\"address.geo.lng\"] < 0)])  # wrong method\n",
    "print(df.loc[(df[\"address.geo.lat\"].astype(float) < 0) & (df[\"address.geo.lng\"].astype(float) < 0)])\n"
   ]
  },
  {
   "cell_type": "code",
   "execution_count": null,
   "id": "bb89bfd8",
   "metadata": {},
   "outputs": [
    {
     "name": "stdout",
     "output_type": "stream",
     "text": [
      "   id                      name          username                      email  \\\n",
      "3   4          Patricia Lebsack          Karianne  Julianne.OConner@kory.org   \n",
      "7   8  Nicholas Runolfsdottir V     Maxime_Nienow       Sherwood@rosamond.me   \n",
      "5   6      Mrs. Dennis Schulist  Leopoldo_Corkery    Karley_Dach@jasper.info   \n",
      "0   1             Leanne Graham              Bret          Sincere@april.biz   \n",
      "6   7           Kurtis Weissnat      Elwyn.Skiles     Telly.Hoeger@billy.biz   \n",
      "8   9           Glenna Reichert          Delphine    Chaim_McDermott@dana.io   \n",
      "1   2              Ervin Howell         Antonette          Shanna@melissa.tv   \n",
      "2   3          Clementine Bauch          Samantha         Nathan@yesenia.net   \n",
      "9  10        Clementina DuBuque    Moriah.Stanton     Rey.Padberg@karina.biz   \n",
      "4   5          Chelsey Dietrich            Kamren   Lucio_Hettinger@annie.ca   \n",
      "\n",
      "                   phone        website     address.street address.suite  \\\n",
      "3      493-170-9623 x156       kale.biz        Hoeger Mall      Apt. 692   \n",
      "7      586.493.6943 x140   jacynthe.com   Ellsworth Summit     Suite 729   \n",
      "5   1-477-935-8478 x6430        ola.org  Norberto Crossing      Apt. 950   \n",
      "0  1-770-736-8031 x56442  hildegard.org        Kulas Light      Apt. 556   \n",
      "6           210.067.6132       elvis.io          Rex Trail     Suite 280   \n",
      "8   (775)976-6794 x41206     conrad.com         Dayna Park     Suite 449   \n",
      "1    010-692-6593 x09125  anastasia.net      Victor Plains     Suite 879   \n",
      "2         1-463-123-4447    ramiro.info  Douglas Extension     Suite 847   \n",
      "9           024-648-3804    ambrose.net    Kattie Turnpike     Suite 198   \n",
      "4          (254)954-1289   demarco.info       Skiles Walks     Suite 351   \n",
      "\n",
      "     address.city address.zipcode address.geo.lat address.geo.lng  \\\n",
      "3     South Elvis      53919-4257         29.4572       -164.2990   \n",
      "7       Aliyaview           45169        -14.3990       -120.7677   \n",
      "5   South Christy      23505-1337        -71.4197         71.7478   \n",
      "0     Gwenborough      92998-3874        -37.3159         81.1496   \n",
      "6       Howemouth      58804-1099         24.8918         21.8984   \n",
      "8  Bartholomebury      76495-3109         24.6463       -168.8889   \n",
      "1     Wisokyburgh      90566-7771        -43.9509        -34.4618   \n",
      "2   McKenziehaven      59590-4157        -68.6102        -47.0653   \n",
      "9     Lebsackbury      31428-2261        -38.2386         57.2232   \n",
      "4      Roscoeview           33263        -31.8129         62.5342   \n",
      "\n",
      "         company.name                       company.catchPhrase  \\\n",
      "3       Robel-Corkery  Multi-tiered zero tolerance productivity   \n",
      "7     Abernathy Group             Implemented secondary concept   \n",
      "5   Considine-Lockman        Synchronised bottom-line interface   \n",
      "0     Romaguera-Crona    Multi-layered client-server neural-net   \n",
      "6         Johns Group        Configurable multimedia task-force   \n",
      "8       Yost and Sons     Switchable contextually-based project   \n",
      "1        Deckow-Crist            Proactive didactic contingency   \n",
      "2  Romaguera-Jacobson         Face to face bifurcated interface   \n",
      "9          Hoeger LLC         Centralized empowering task-force   \n",
      "4         Keebler LLC      User-centric fault-tolerant solution   \n",
      "\n",
      "                             company.bs  \n",
      "3  transition cutting-edge web services  \n",
      "7         e-enable extensible e-tailers  \n",
      "5      e-enable innovative applications  \n",
      "0           harness real-time e-markets  \n",
      "6         generate enterprise e-tailers  \n",
      "8      aggregate real-time technologies  \n",
      "1      synergize scalable supply-chains  \n",
      "2       e-enable strategic applications  \n",
      "9              target end-to-end models  \n",
      "4      revolutionize end-to-end systems  \n"
     ]
    }
   ],
   "source": [
    "# Sort \n",
    "sorted_df = df.sort_values(by=\"name\", ascending=False)\n",
    "print(sorted_df) "
   ]
  },
  {
   "cell_type": "code",
   "execution_count": null,
   "id": "bc6b413f",
   "metadata": {},
   "outputs": [
    {
     "name": "stdout",
     "output_type": "stream",
     "text": [
      "Survived\n",
      "0    30.626179\n",
      "1    28.343690\n",
      "Name: Age, dtype: float64\n",
      "<class 'pandas.core.series.Series'>\n"
     ]
    }
   ],
   "source": [
    "# group by + agg function\n",
    "\n",
    "url = \"https://raw.githubusercontent.com/datasciencedojo/datasets/master/titanic.csv\"\n",
    "df = pd.read_csv(url)\n",
    "\n",
    "# print(df[\"Age\"].mean())  # mean of Age column\n",
    "# print(df[\"Age\"].max())  # max of Age column\n",
    "# print(df[\"Age\"].min())  # min of Age column\n",
    "\n",
    "# print(df.head())\n",
    "\n",
    "age_series = df.groupby(\"Survived\")[\"Age\"].mean()\n",
    "print(age_series)  # mean of Age column grouped by Survived\n",
    "print(type(age_series))"
   ]
  },
  {
   "cell_type": "code",
   "execution_count": null,
   "id": "27266035",
   "metadata": {},
   "outputs": [
    {
     "name": "stdout",
     "output_type": "stream",
     "text": [
      "True\n",
      "False\n",
      "Index(['Age', 'Cabin', 'Embarked'], dtype='object')\n"
     ]
    }
   ],
   "source": [
    "# Checking any missing value for a column\n",
    "print(df[\"Age\"].isnull().any())  # check if any missing values in Age column\n",
    "print(df[\"Name\"].isnull().any())  # check if any missing values in Name column\n",
    "\n",
    "# check which columns with missing values\n",
    "print(df.columns[df.isnull().any()])  # get columns with missing values"
   ]
  },
  {
   "cell_type": "code",
   "execution_count": null,
   "id": "38a143f2",
   "metadata": {},
   "outputs": [
    {
     "name": "stdout",
     "output_type": "stream",
     "text": [
      "False\n",
      "891\n",
      "714\n"
     ]
    }
   ],
   "source": [
    "# Transform (drop)\n",
    "# ETL (Extract, Transform, Load)\n",
    "df_after_drop = df.dropna(subset=[\"Age\"])\n",
    "print(df_after_drop[\"Age\"].isnull().any())  # check if any missing values in Age column after drop\n",
    "\n",
    "print(len(df))\n",
    "print(len(df_after_drop))"
   ]
  },
  {
   "cell_type": "code",
   "execution_count": 46,
   "id": "0c8c6060",
   "metadata": {},
   "outputs": [
    {
     "name": "stdout",
     "output_type": "stream",
     "text": [
      "True\n",
      "False\n"
     ]
    }
   ],
   "source": [
    "# Transform (Refill)\n",
    "df_for_refill = df.copy()\n",
    "\n",
    "# Test before refill\n",
    "print(df_for_refill[\"Age\"].isnull().any())  # check if any missing values in Age column before refill\n",
    "\n",
    "# Refill N/A for Age column\n",
    "df_for_refill[\"Age\"] = df_for_refill[\"Age\"].fillna(\"N/A\")\n",
    "\n",
    "# Test after refill\n",
    "print(df_for_refill[\"Age\"].isnull().any())  # check if any missing values in Age column after refill\n"
   ]
  },
  {
   "cell_type": "code",
   "execution_count": 47,
   "id": "48858ef9",
   "metadata": {},
   "outputs": [],
   "source": [
    "# DF to csv\n",
    "df_for_refill.to_csv(\"after_refill.csv\", index=False)\n"
   ]
  },
  {
   "cell_type": "code",
   "execution_count": null,
   "id": "f5f0898d",
   "metadata": {},
   "outputs": [],
   "source": [
    "# Add Column\n",
    "# Age >= 18 (Adult), Age < 18 (Child)\n",
    "\n",
    "# similar to map\n",
    "df_for_refill[\"Age_Cat\"] = df[\"Age\"].apply(lambda x: \"Adult\" if x >= 18 else \"Child\")\n",
    "\n",
    "\n",
    "\n",
    "df_for_refill.to_csv(\"after_add_age_cat.csv\", index=False)"
   ]
  }
 ],
 "metadata": {
  "kernelspec": {
   "display_name": ".venv",
   "language": "python",
   "name": "python3"
  },
  "language_info": {
   "codemirror_mode": {
    "name": "ipython",
    "version": 3
   },
   "file_extension": ".py",
   "mimetype": "text/x-python",
   "name": "python",
   "nbconvert_exporter": "python",
   "pygments_lexer": "ipython3",
   "version": "3.13.5"
  }
 },
 "nbformat": 4,
 "nbformat_minor": 5
}
