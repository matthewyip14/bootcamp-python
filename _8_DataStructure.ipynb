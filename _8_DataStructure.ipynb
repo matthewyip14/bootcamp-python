{
 "cells": [
  {
   "cell_type": "code",
   "execution_count": 1,
   "id": "db33ffc9",
   "metadata": {},
   "outputs": [
    {
     "name": "stdout",
     "output_type": "stream",
     "text": [
      "['John', 'Lucas', 'Leo', 'Jennie']\n",
      "['John', 'Lucas', 'Peter', 'Leo', 'Jennie']\n",
      "['John', 'Lucas', 'Peter', 'Leo']\n",
      "['Jennie', 'John', 'Leo', 'Lucas', 'Peter']\n",
      "['Jennie', 'Leo', 'Lucas', 'Peter']\n",
      "[]\n"
     ]
    }
   ],
   "source": [
    "# Data Types:\n",
    "# bool, str, int, float\n",
    "\n",
    "# Data Structures:\n",
    "# List, Set, Dictionary, Tuple\n",
    "\n",
    "names = [\"John\", \"Steven\", \"Lucas\", \"Leo\"]\n",
    "names.append(\"Jennie\")\n",
    "names.remove(\"Steven\")\n",
    "print(names)\n",
    "names.insert(2, \"Peter\")\n",
    "print(names)\n",
    "\n",
    "print(names[:4])\n",
    "\n",
    "names.sort()\n",
    "print(names)\n",
    "\n",
    "names.pop(1)\n",
    "print(names)\n",
    "\n",
    "names.clear()\n",
    "print(names)"
   ]
  },
  {
   "cell_type": "code",
   "execution_count": 2,
   "id": "f146a0ca",
   "metadata": {},
   "outputs": [
    {
     "name": "stdout",
     "output_type": "stream",
     "text": [
      "['John', 'Vincent', 'Jennie', 100, 200, -1]\n"
     ]
    }
   ],
   "source": [
    "list1 = [\"John\", \"Vincent\", \"Jennie\"]\n",
    "list2 = [100, 200, -1]\n",
    "list3 = list1 + list2\n",
    "print(list3)"
   ]
  },
  {
   "cell_type": "code",
   "execution_count": 3,
   "id": "d995af81",
   "metadata": {},
   "outputs": [
    {
     "name": "stdout",
     "output_type": "stream",
     "text": [
      "<class 'set'>\n",
      "{2, 9, 10, -3}\n",
      "{2, 9, 10, -3}\n",
      "{2, 8, 9, 10, -5, -3}\n",
      "{8, 9, 2, -5}\n"
     ]
    }
   ],
   "source": [
    "# Java: new ArrayList, new HashSet\n",
    "# Python: [] -> list, {} -> set\n",
    "\n",
    "numbers = {2, 4, 9, -3}\n",
    "print(type(numbers)) # \n",
    "\n",
    "# Set -> No ordering\n",
    "numbers.add(10)\n",
    "numbers.remove(4)\n",
    "print(numbers) # {2, 9, 10, -3}\n",
    "\n",
    "numbers.add(10)\n",
    "print(numbers) # {2, 9, 10, -3}\n",
    "\n",
    "numbers2 = {8, 9, 2, -5}\n",
    "numbers.update(numbers2) \n",
    "print(numbers) # {2, 8, 9, 10, -5, -3}\n",
    "\n",
    "print(numbers.intersection(numbers2)) # {8, 9, 2, -5}\n",
    "\n",
    "# union \n",
    "# | "
   ]
  },
  {
   "cell_type": "code",
   "execution_count": 4,
   "id": "fc027eb6",
   "metadata": {},
   "outputs": [
    {
     "name": "stdout",
     "output_type": "stream",
     "text": [
      "23\n",
      "1.76\n",
      "John\n",
      "name: John\n",
      "age: 23\n",
      "height: 1.76\n",
      "dict_keys(['name', 'age', 'height'])\n",
      "dict_values(['John', 23, 1.76])\n"
     ]
    }
   ],
   "source": [
    "# dictionary\n",
    "person_dictionary = {\n",
    "    \"name\": \"John\",\n",
    "    \"age\": 23,\n",
    "    \"height\": 1.76\n",
    "}\n",
    "\n",
    "print(person_dictionary[\"age\"])\n",
    "print(person_dictionary[\"height\"])\n",
    "print(person_dictionary[\"name\"])\n",
    "\n",
    "for k, v in person_dictionary.items():\n",
    "    print(f\"{k}: {v}\")\n",
    "\n",
    "print(person_dictionary.keys())\n",
    "print(person_dictionary.values())"
   ]
  },
  {
   "cell_type": "code",
   "execution_count": 7,
   "id": "95dfd021",
   "metadata": {},
   "outputs": [
    {
     "name": "stdout",
     "output_type": "stream",
     "text": [
      "John\n",
      "Vincent\n",
      "100\n",
      "red\n",
      "{3: 'John', 7: 'Vincent', 'color': 'red'}\n",
      "{3: 'John', 7: 'Vincent', 'color': 'blue'}\n"
     ]
    }
   ],
   "source": [
    "# dictionary\n",
    "dictionary2 = {\n",
    "    3 : \"John\",\n",
    "    7 : \"Vincent\",\n",
    "    \"Vincent\" : 100\n",
    "}\n",
    "\n",
    "print(dictionary2[3]) # John\n",
    "print(dictionary2[7]) # Vincent\n",
    "print(dictionary2[\"Vincent\"]) # 100\n",
    "\n",
    "# Java put() in HashMap (add or replace)\n",
    "dictionary2.update({\"color\" : \"red\"})\n",
    "print(dictionary2[\"color\"])\n",
    "\n",
    "dictionary2.pop(\"Vincent\")\n",
    "print(dictionary2)\n",
    "\n",
    "dictionary2[\"color\"] = \"blue\"\n",
    "print(dictionary2)"
   ]
  },
  {
   "cell_type": "code",
   "execution_count": 11,
   "id": "d5c3b071",
   "metadata": {},
   "outputs": [
    {
     "name": "stdout",
     "output_type": "stream",
     "text": [
      "<class 'dict'>\n",
      "{'name': 'Vincent'}\n",
      "{'name': 'Peter', 'age': 18}\n"
     ]
    }
   ],
   "source": [
    "family_dict = {\n",
    "  \"child1\" : {\n",
    "    \"name\" : \"John\",\n",
    "    \"age\" : 13\n",
    "  },\n",
    "  \"child2\" : {\n",
    "    \"name\" : \"Peter\",\n",
    "    \"age\" : 18\n",
    "  },\n",
    "  \"child3\" : {\n",
    "    \"name\" : \"Vincent\"\n",
    "  }\n",
    "}\n",
    "\n",
    "print(type(family_dict))  # <class 'dict'>\n",
    "print(family_dict.get(\"child3\"))  # {'name': 'Vincent', 'age': 5}\n",
    "print(family_dict.get(\"child2\")) # {'name': 'Peter', 'age': 18}"
   ]
  },
  {
   "cell_type": "code",
   "execution_count": null,
   "id": "d6b3f6c5",
   "metadata": {},
   "outputs": [
    {
     "name": "stdout",
     "output_type": "stream",
     "text": [
      "<class 'tuple'>\n",
      "(True, 3, 8.9, 'Jennie')\n",
      "8.9\n",
      "<class 'tuple'>\n",
      "<class 'int'>\n"
     ]
    }
   ],
   "source": [
    "# tuple ~ array (Allow Read ONLY)\n",
    "names = (\"John\", \"Peter\", \"Sally\")\n",
    "print(type(names))  # <class 'tuple'>\n",
    "\n",
    "strings = (True, 3, 8.9, \"Jennie\")\n",
    "print(strings)  # (True, 3, 8.9, 'Jennie')\n",
    "print(strings[2])  # index 2: 8.9\n",
    "# strings[2] = \"Sue\" # 'tuple' object does not support item assignment\n",
    "\n",
    "# tuple imples more than one element\n",
    "ages = (5, 3)\n",
    "print(type(ages))  # <class 'tuple'>\n",
    "\n",
    "ages = (40)\n",
    "print(type(ages))  # <class 'int'>, not a tuple\n",
    "\n"
   ]
  }
 ],
 "metadata": {
  "kernelspec": {
   "display_name": ".venv",
   "language": "python",
   "name": "python3"
  },
  "language_info": {
   "codemirror_mode": {
    "name": "ipython",
    "version": 3
   },
   "file_extension": ".py",
   "mimetype": "text/x-python",
   "name": "python",
   "nbconvert_exporter": "python",
   "pygments_lexer": "ipython3",
   "version": "3.13.5"
  }
 },
 "nbformat": 4,
 "nbformat_minor": 5
}
