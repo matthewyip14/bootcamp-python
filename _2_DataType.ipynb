{
 "cells": [
  {
   "cell_type": "code",
   "execution_count": 5,
   "id": "630b1371",
   "metadata": {},
   "outputs": [
    {
     "name": "stdout",
     "output_type": "stream",
     "text": [
      "<class 'int'>\n",
      "<class 'float'>\n",
      "<class 'str'>\n",
      "<class 'bool'>\n",
      "Age23\n",
      "AgeTrue\n"
     ]
    }
   ],
   "source": [
    "# Java has 8 primitives\n",
    "# Python\n",
    "y = 3\n",
    "print(type(y))\n",
    "y = 3.4\n",
    "print(type(y))\n",
    "y = \"bootcamp\"\n",
    "print(type(y))\n",
    "y = True\n",
    "print(type(y))\n",
    "\n",
    "print(\"Age\" + str(23))\n",
    "print(\"Age\" + str(True))"
   ]
  }
 ],
 "metadata": {
  "kernelspec": {
   "display_name": "bootcamp-env",
   "language": "python",
   "name": "python3"
  },
  "language_info": {
   "codemirror_mode": {
    "name": "ipython",
    "version": 3
   },
   "file_extension": ".py",
   "mimetype": "text/x-python",
   "name": "python",
   "nbconvert_exporter": "python",
   "pygments_lexer": "ipython3",
   "version": "3.13.5"
  }
 },
 "nbformat": 4,
 "nbformat_minor": 5
}
