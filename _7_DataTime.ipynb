{
 "cells": [
  {
   "cell_type": "code",
   "execution_count": 1,
   "id": "4746be07",
   "metadata": {},
   "outputs": [
    {
     "name": "stdout",
     "output_type": "stream",
     "text": [
      "2025-08-07 01:25:30.430599\n",
      "2025-08-07\n",
      "2024-12-31\n"
     ]
    }
   ],
   "source": [
    "from datetime import datetime\n",
    "print(datetime.now())\n",
    "\n",
    "from datetime import date\n",
    "print(date.today())\n",
    "\n",
    "birthday = date(2024, 12, 31)\n",
    "print(birthday)"
   ]
  },
  {
   "cell_type": "code",
   "execution_count": 2,
   "id": "977dfca3",
   "metadata": {},
   "outputs": [
    {
     "name": "stdout",
     "output_type": "stream",
     "text": [
      "2025-01-03\n",
      "2025-11-07\n"
     ]
    }
   ],
   "source": [
    "from datetime import timedelta\n",
    "new_day = birthday + timedelta(days=3)\n",
    "print(new_day)\n",
    "\n",
    "\n",
    "from dateutil.relativedelta import relativedelta\n",
    "\n",
    "join_date = date.today()\n",
    "after_probation = join_date + relativedelta(months=3)\n",
    "print(after_probation)"
   ]
  },
  {
   "cell_type": "code",
   "execution_count": 3,
   "id": "f82e3cc1",
   "metadata": {},
   "outputs": [
    {
     "name": "stdout",
     "output_type": "stream",
     "text": [
      "<class 'str'>\n",
      "2025-08-07 01:25:30\n"
     ]
    }
   ],
   "source": [
    "formatted_date = datetime.now().strftime(\"%Y-%m-%d %H:%M:%S\")\n",
    "print(type(formatted_date))\n",
    "print(formatted_date)"
   ]
  }
 ],
 "metadata": {
  "kernelspec": {
   "display_name": ".venv",
   "language": "python",
   "name": "python3"
  },
  "language_info": {
   "codemirror_mode": {
    "name": "ipython",
    "version": 3
   },
   "file_extension": ".py",
   "mimetype": "text/x-python",
   "name": "python",
   "nbconvert_exporter": "python",
   "pygments_lexer": "ipython3",
   "version": "3.13.5"
  }
 },
 "nbformat": 4,
 "nbformat_minor": 5
}
