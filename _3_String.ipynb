{
 "cells": [
  {
   "cell_type": "code",
   "execution_count": 1,
   "id": "14214d7f",
   "metadata": {},
   "outputs": [
    {
     "name": "stdout",
     "output_type": "stream",
     "text": [
      "P\n",
      "n\n",
      "h\n",
      "Pyt\n",
      "on\n",
      "python\n",
      "PYTHON\n",
      "Pxthon\n"
     ]
    }
   ],
   "source": [
    "word = \"Python\"\n",
    "\n",
    "# Java does not allow [] with String\n",
    "# similiar to Java substring\n",
    "print(word[0]) \n",
    "print(word[-1])\n",
    "print(word[-3]) \n",
    "\n",
    "print(word[:3])\n",
    "print(word[4:])\n",
    "\n",
    "# functions (Java: instance method)\n",
    "print(word.lower())\n",
    "print(word.upper())\n",
    "\n",
    "print(word.replace(\"y\", \"x\"))"
   ]
  },
  {
   "cell_type": "code",
   "execution_count": 2,
   "id": "f74b37e7",
   "metadata": {},
   "outputs": [
    {
     "name": "stdout",
     "output_type": "stream",
     "text": [
      "['apple', 'orange', 'lemon']\n"
     ]
    }
   ],
   "source": [
    "csv_row = \"apple,orange,lemon\"\n",
    "print(csv_row.split(\",\"))"
   ]
  },
  {
   "cell_type": "code",
   "execution_count": 3,
   "id": "4684225c",
   "metadata": {},
   "outputs": [
    {
     "name": "stdout",
     "output_type": "stream",
     "text": [
      "apple,orange,lemon\n"
     ]
    }
   ],
   "source": [
    "fruits = [\"apple\", \"orange\", \"lemon\"]\n",
    "fruit_string = \",\".join(fruits)\n",
    "print(fruit_string)"
   ]
  },
  {
   "cell_type": "code",
   "execution_count": 4,
   "id": "d87e6361",
   "metadata": {},
   "outputs": [
    {
     "name": "stdout",
     "output_type": "stream",
     "text": [
      "1\n",
      "True\n",
      "False\n"
     ]
    }
   ],
   "source": [
    "\n",
    "student_name = \"Alex\"\n",
    "print(student_name.count(\"l\"))\n",
    "\n",
    "number = \"324\"\n",
    "print(number.isdigit())\n",
    "\n",
    "tutor_name = \"vincent\"\n",
    "print(tutor_name.isdigit())"
   ]
  },
  {
   "cell_type": "code",
   "execution_count": 5,
   "id": "f08555ab",
   "metadata": {},
   "outputs": [
    {
     "name": "stdout",
     "output_type": "stream",
     "text": [
      "John Wong\n"
     ]
    }
   ],
   "source": [
    "teacher = \"John\" + \" \" + \"Wong\"\n",
    "print(teacher)"
   ]
  },
  {
   "cell_type": "code",
   "execution_count": 6,
   "id": "25881e9d",
   "metadata": {},
   "outputs": [
    {
     "name": "stdout",
     "output_type": "stream",
     "text": [
      "The student is Jennie, and the age is 27.\n"
     ]
    }
   ],
   "source": [
    "name = \"Jennie\"\n",
    "age = 27\n",
    "print(f\"The student is {name}, and the age is {age}.\")"
   ]
  }
 ],
 "metadata": {
  "kernelspec": {
   "display_name": ".venv",
   "language": "python",
   "name": "python3"
  },
  "language_info": {
   "codemirror_mode": {
    "name": "ipython",
    "version": 3
   },
   "file_extension": ".py",
   "mimetype": "text/x-python",
   "name": "python",
   "nbconvert_exporter": "python",
   "pygments_lexer": "ipython3",
   "version": "3.13.5"
  }
 },
 "nbformat": 4,
 "nbformat_minor": 5
}
