{
 "cells": [
  {
   "cell_type": "code",
   "execution_count": 36,
   "id": "9d09cd0e",
   "metadata": {},
   "outputs": [
    {
     "data": {
      "text/plain": [
       "16"
      ]
     },
     "execution_count": 36,
     "metadata": {},
     "output_type": "execute_result"
    }
   ],
   "source": [
    "3 + 7\n",
    "7 + 9"
   ]
  },
  {
   "cell_type": "code",
   "execution_count": null,
   "id": "a01dff1d",
   "metadata": {},
   "outputs": [
    {
     "name": "stdout",
     "output_type": "stream",
     "text": [
      "7\n",
      "16\n"
     ]
    },
    {
     "ename": "",
     "evalue": "",
     "output_type": "error",
     "traceback": [
      "\u001b[1;31mnotebook controller is DISPOSED. \n",
      "\u001b[1;31mView Jupyter <a href='command:jupyter.viewOutput'>log</a> for further details."
     ]
    }
   ],
   "source": [
    "print(3 + 4)\n",
    "print(7 + 9)"
   ]
  },
  {
   "cell_type": "code",
   "execution_count": null,
   "id": "e47e1d1c",
   "metadata": {},
   "outputs": [
    {
     "name": "stdout",
     "output_type": "stream",
     "text": [
      "1\n",
      "9\n",
      "9.5\n",
      "True\n"
     ]
    },
    {
     "ename": "",
     "evalue": "",
     "output_type": "error",
     "traceback": [
      "\u001b[1;31mnotebook controller is DISPOSED. \n",
      "\u001b[1;31mView Jupyter <a href='command:jupyter.viewOutput'>log</a> for further details."
     ]
    }
   ],
   "source": [
    "# int x = 1;\n",
    "x = 1 # Python doesn't need to specify the type of variable\n",
    "print(x)\n",
    "\n",
    "x = 9;\n",
    "print(x)\n",
    "\n",
    "x = 9.5\n",
    "print(x)\n",
    "\n",
    "x = True # Python: True, Java: true\n",
    "print(x)"
   ]
  },
  {
   "cell_type": "code",
   "execution_count": 37,
   "id": "a875325b",
   "metadata": {},
   "outputs": [
    {
     "name": "stdout",
     "output_type": "stream",
     "text": [
      "John\n",
      "John\n",
      "Hello World!!!\n",
      "Hello World !!!\n"
     ]
    }
   ],
   "source": [
    "name = \"John\"\n",
    "print(name)\n",
    "\n",
    "name = 'John'\n",
    "print(name)\n",
    "\n",
    "print(\"Hello World!!!\")\n",
    "\n",
    "print(\"Hello World\", \"!!!\") # added space"
   ]
  },
  {
   "cell_type": "code",
   "execution_count": 38,
   "id": "c8aaf6e2",
   "metadata": {},
   "outputs": [],
   "source": [
    "# Naming Convention\n",
    "# Java: CamelCase style for vairable name: isMale = true\n",
    "# Python: underscore: is_male = True\n",
    "\n",
    "is_student = False\n",
    "\n",
    "# Invalid naming convention\n",
    "# 2name = \"Steven\" # error\n",
    "# last-name = \"Lau\" # error"
   ]
  },
  {
   "cell_type": "code",
   "execution_count": 39,
   "id": "6f13b7a0",
   "metadata": {},
   "outputs": [
    {
     "name": "stdout",
     "output_type": "stream",
     "text": [
      "24\n",
      "hellohello\n",
      "3.3333333333333335\n"
     ]
    }
   ],
   "source": [
    "# Math\n",
    "# multiply *\n",
    "print(3 * 8)\n",
    "print(\"hello\" * 2)\n",
    "\n",
    "# divide /\n",
    "print(10 / 3)\n",
    "# print(10 / 0) # division by zero"
   ]
  },
  {
   "cell_type": "code",
   "execution_count": 40,
   "id": "bceec062",
   "metadata": {},
   "outputs": [
    {
     "name": "stdout",
     "output_type": "stream",
     "text": [
      "<class 'int'>\n",
      "<class 'float'>\n",
      "<class 'str'>\n",
      "<class 'bool'>\n",
      "age23\n",
      "age True\n"
     ]
    }
   ],
   "source": [
    "# Java has 8 primitive\n",
    "# Python\n",
    "y = 3\n",
    "print(type(y))\n",
    "y = 3.4\n",
    "print(type(y))\n",
    "y = \"bootcamp\"\n",
    "print(type(y))\n",
    "y = True\n",
    "print(type(y))\n",
    "\n",
    "\n",
    "print(\"age\" + str(23))\n",
    "print(\"age\", str(True)) # print with space"
   ]
  },
  {
   "cell_type": "code",
   "execution_count": 41,
   "id": "7b3041ba",
   "metadata": {},
   "outputs": [
    {
     "name": "stdout",
     "output_type": "stream",
     "text": [
      "The student is Jennie, and the age is 27.\n"
     ]
    }
   ],
   "source": [
    "name = \"Jennie\"\n",
    "age = 27\n",
    "print(f\"The student is {name}, and the age is {age}.\")"
   ]
  },
  {
   "cell_type": "code",
   "execution_count": 42,
   "id": "7a4c8eaa",
   "metadata": {},
   "outputs": [],
   "source": [
    "# Case sensitive?\n",
    "# Pyhton: String type and Dynamic"
   ]
  }
 ],
 "metadata": {
  "kernelspec": {
   "display_name": "bootcamp-env",
   "language": "python",
   "name": "python3"
  },
  "language_info": {
   "codemirror_mode": {
    "name": "ipython",
    "version": 3
   },
   "file_extension": ".py",
   "mimetype": "text/x-python",
   "name": "python",
   "nbconvert_exporter": "python",
   "pygments_lexer": "ipython3",
   "version": "3.13.5"
  }
 },
 "nbformat": 4,
 "nbformat_minor": 5
}
