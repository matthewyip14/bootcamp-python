{
 "cells": [
  {
   "cell_type": "code",
   "execution_count": 2,
   "id": "1319f48b",
   "metadata": {},
   "outputs": [
    {
     "name": "stdout",
     "output_type": "stream",
     "text": [
      "apple\n",
      "orange\n",
      "lemon\n",
      "0\n",
      "1\n",
      "2\n",
      "3\n",
      "4\n",
      "w\n",
      "o\n",
      "r\n",
      "l\n",
      "d\n"
     ]
    }
   ],
   "source": [
    "fruits = [\"apple\", \"orange\", \"lemon\"]\n",
    "\n",
    "# Java: for, for-each, stream.foreach()\n",
    "\n",
    "# Python\n",
    "for f in fruits:\n",
    "  print(f)\n",
    "\n",
    "for i in range(5):\n",
    "  print(i)\n",
    "\n",
    "for letter in \"world\":\n",
    "  print(letter)"
   ]
  },
  {
   "cell_type": "code",
   "execution_count": 3,
   "id": "93ec7763",
   "metadata": {},
   "outputs": [
    {
     "name": "stdout",
     "output_type": "stream",
     "text": [
      "1\n",
      "3\n",
      "5\n",
      "7\n",
      "9\n",
      "1\n",
      "3\n",
      "5\n",
      "7\n",
      "9\n"
     ]
    }
   ],
   "source": [
    "# for + if (print 1 - 10 odd number)\n",
    "for i in range(10):\n",
    "  if (i + 1) % 2 == 1:\n",
    "    print(i + 1)\n",
    "\n",
    "# continue\n",
    "for i in range(10):\n",
    "  if (i + 1) % 2 == 0:\n",
    "    continue\n",
    "  print(i + 1)"
   ]
  },
  {
   "cell_type": "code",
   "execution_count": 4,
   "id": "b1eb3cb5",
   "metadata": {},
   "outputs": [
    {
     "name": "stdout",
     "output_type": "stream",
     "text": [
      "Number of l=3\n",
      "Found w.\n",
      "3\n",
      "True\n"
     ]
    }
   ],
   "source": [
    "\n",
    "# counting (for loop) - count number of l\n",
    "word = \"hello world\"\n",
    "counter = 0\n",
    "for l in word:\n",
    "  if l == \"l\":\n",
    "    counter = counter + 1\n",
    "print(f\"Number of l={counter}\")\n",
    "\n",
    "# searching (for loop) - search if w exists\n",
    "# break\n",
    "is_w_found = False\n",
    "for l in word:\n",
    "  if l == \"w\":\n",
    "    is_w_found = True\n",
    "    break\n",
    "\n",
    "if is_w_found:\n",
    "  print(\"Found w.\")\n",
    "else:\n",
    "  print(\"Not found w.\")\n",
    "\n",
    "print(word.count(\"l\")) # 3\n",
    "print(\"w\" in word) # True"
   ]
  },
  {
   "cell_type": "code",
   "execution_count": 5,
   "id": "8edcb651",
   "metadata": {},
   "outputs": [
    {
     "name": "stdout",
     "output_type": "stream",
     "text": [
      "count=0\n",
      "count=1\n",
      "count=2\n",
      "count=3\n",
      "count=4\n"
     ]
    }
   ],
   "source": [
    "# while (specific break condition)\n",
    "count = 0\n",
    "while count < 5:\n",
    "  print(f\"count={count}\")\n",
    "  count = count + 1"
   ]
  },
  {
   "cell_type": "code",
   "execution_count": 6,
   "id": "a808c8f9",
   "metadata": {},
   "outputs": [
    {
     "name": "stdout",
     "output_type": "stream",
     "text": [
      "<class 'list'>\n",
      "13\n",
      "4\n",
      "26\n",
      "3\n",
      "2\n",
      "0\n",
      "max=13, min=4\n"
     ]
    }
   ],
   "source": [
    "# min, max\n",
    "numbers = [4, 9, 13]\n",
    "print(type(numbers)) # list\n",
    "\n",
    "print(max(numbers))\n",
    "print(min(numbers))\n",
    "print(sum(numbers))\n",
    "print(len(numbers))\n",
    "\n",
    "print(numbers.index(max(numbers))) # 2\n",
    "print(numbers.index(min(numbers))) # 0\n",
    "\n",
    "max_num = numbers[0]\n",
    "min_num = numbers[0]\n",
    "for n in numbers:\n",
    "  if n > max_num:\n",
    "    max_num = n\n",
    "  if n < min_num:\n",
    "    min_num = n\n",
    "print(f\"max={max_num}, min={min_num}\")"
   ]
  },
  {
   "cell_type": "code",
   "execution_count": 7,
   "id": "82823185",
   "metadata": {},
   "outputs": [
    {
     "name": "stdout",
     "output_type": "stream",
     "text": [
      "*\n",
      "**\n",
      "***\n",
      "****\n"
     ]
    }
   ],
   "source": [
    "for i in range(1, 5):\n",
    "  print(\"*\" * i)"
   ]
  }
 ],
 "metadata": {
  "kernelspec": {
   "display_name": ".venv",
   "language": "python",
   "name": "python3"
  },
  "language_info": {
   "codemirror_mode": {
    "name": "ipython",
    "version": 3
   },
   "file_extension": ".py",
   "mimetype": "text/x-python",
   "name": "python",
   "nbconvert_exporter": "python",
   "pygments_lexer": "ipython3",
   "version": "3.13.5"
  }
 },
 "nbformat": 4,
 "nbformat_minor": 5
}
