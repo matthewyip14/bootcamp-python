{
 "cells": [
  {
   "cell_type": "code",
   "execution_count": 11,
   "id": "53d9261e",
   "metadata": {},
   "outputs": [
    {
     "name": "stdout",
     "output_type": "stream",
     "text": [
      "[1 2 3]\n",
      "<class 'numpy.ndarray'>\n",
      "[[ 1  2]\n",
      " [ 2  7]\n",
      " [ 9 10]]\n",
      "<class 'numpy.ndarray'>\n",
      "(3, 2)\n",
      "<class 'list'>\n",
      "[[1, 2], [2, 7], [9, 10]]\n",
      "[2 3 4]\n",
      "[1 4 9]\n",
      "[2 4 6]\n",
      "[1, 2, 3, 1, 2, 3]\n"
     ]
    }
   ],
   "source": [
    "import numpy as np\n",
    "\n",
    "arr = np.array([1, 2, 3])\n",
    "print(arr)  # Output: [1 2 3]\n",
    "print(type(arr))  # Output: <class 'numpy.ndarray'>\n",
    "\n",
    "arr2d = np.array([[1, 2], [2, 7], [9, 10]])\n",
    "print(arr2d)\n",
    "print(type(arr2d))  # Output: <class 'numpy.ndarray'>\n",
    "print(arr2d.shape)  # Output: (3, 2)\n",
    "\n",
    "list_of_list = [[1, 2], [2, 7], [9, 10]]\n",
    "print(type(list_of_list))  # Output: <class 'list'>\n",
    "print(list_of_list)\n",
    "\n",
    "print(arr + 1) # output: [2 3 4]  # Element-wise addition\n",
    "print(arr ** 2) # output: [ 1  4  9]  # Element-wise squaring\n",
    "print(arr * 2)  # output: [2 4 6]  # Element-wise doubling\n",
    "\n",
    "list1 = [1, 2, 3]\n",
    "print(list1 * 2) # output: [1, 2, 3, 1, 2, 3]  # List repetition"
   ]
  },
  {
   "cell_type": "code",
   "execution_count": 18,
   "id": "fe03da41",
   "metadata": {},
   "outputs": [
    {
     "name": "stdout",
     "output_type": "stream",
     "text": [
      "48.5\n",
      "44.0\n",
      "42.10403781111736\n",
      "[[100   8]\n",
      " [  6  80]]\n",
      "4\n"
     ]
    }
   ],
   "source": [
    "arr3 = np.array([100, 8, 6, 80])\n",
    "print(np.mean(arr3))  # Output: 48.5\n",
    "print(np.median(arr3))  # Output: 44.0\n",
    "print(np.std(arr3))  # Output: 42.1040378\n",
    "\n",
    "arr4_reshaped = arr3.reshape(2, 2)\n",
    "print(arr4_reshaped)\n",
    "\n",
    "print(arr3.size)  # Output: 4\n"
   ]
  }
 ],
 "metadata": {
  "kernelspec": {
   "display_name": ".venv",
   "language": "python",
   "name": "python3"
  },
  "language_info": {
   "codemirror_mode": {
    "name": "ipython",
    "version": 3
   },
   "file_extension": ".py",
   "mimetype": "text/x-python",
   "name": "python",
   "nbconvert_exporter": "python",
   "pygments_lexer": "ipython3",
   "version": "3.13.5"
  }
 },
 "nbformat": 4,
 "nbformat_minor": 5
}
