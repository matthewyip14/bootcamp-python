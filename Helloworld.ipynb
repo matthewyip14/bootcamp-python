{
 "cells": [
  {
   "cell_type": "code",
   "execution_count": 52,
   "id": "e47e1d1c",
   "metadata": {},
   "outputs": [],
   "source": [
    "# int x = 1;\n",
    "# x = 1;\n",
    "\n",
    "# x = 9;"
   ]
  },
  {
   "cell_type": "code",
   "execution_count": 53,
   "id": "a875325b",
   "metadata": {},
   "outputs": [
    {
     "name": "stdout",
     "output_type": "stream",
     "text": [
      "Jonh\n",
      "Hello, World! !!!\n"
     ]
    }
   ],
   "source": [
    "name = \"Jonh\"\n",
    "print(name)\n",
    "\n",
    "print(\"Hello, World!\", \"!!!\") # added space"
   ]
  },
  {
   "cell_type": "code",
   "execution_count": 54,
   "id": "c8aaf6e2",
   "metadata": {},
   "outputs": [],
   "source": [
    "# Naming Convention\n",
    "# Java: CamelCase style for vairable name: isMale = true\n",
    "# Python: is_male = True\n",
    "\n",
    "is_student = False"
   ]
  },
  {
   "cell_type": "code",
   "execution_count": 55,
   "id": "6f13b7a0",
   "metadata": {},
   "outputs": [
    {
     "name": "stdout",
     "output_type": "stream",
     "text": [
      "24\n",
      "hellohello\n",
      "3.3333333333333335\n"
     ]
    }
   ],
   "source": [
    "# Math\n",
    "# mutiply\n",
    "print(3 * 8)\n",
    "print(\"hello\" * 2)\n",
    "\n",
    "# divide /\n",
    "print(10 / 3) # integer division //\n",
    "# print(10 / 0) # division by zero\n"
   ]
  },
  {
   "cell_type": "code",
   "execution_count": null,
   "id": "bceec062",
   "metadata": {},
   "outputs": [
    {
     "name": "stdout",
     "output_type": "stream",
     "text": [
      "<class 'int'>\n",
      "<class 'float'>\n",
      "<class 'str'>\n",
      "<class 'bool'>\n",
      "age23\n",
      "age True\n"
     ]
    }
   ],
   "source": [
    "# Java has 8 primitive\n",
    "# Python\n",
    "y = 3\n",
    "print(type(y))\n",
    "y = 3.4\n",
    "print(type(y))\n",
    "y = \"bootcamp\"\n",
    "print(type(y))\n",
    "y = True\n",
    "print(type(y))\n",
    "\n",
    "\n",
    "print(\"age\" + str(23))\n",
    "print(\"age\", str(True)) # print with space"
   ]
  },
  {
   "cell_type": "code",
   "execution_count": null,
   "id": "7b3041ba",
   "metadata": {},
   "outputs": [],
   "source": [
    "name = \"Jennie\"\n",
    "age = 27\n",
    "print(f\"The student is {name}, and the age is {age}.\")"
   ]
  },
  {
   "cell_type": "code",
   "execution_count": null,
   "id": "7a4c8eaa",
   "metadata": {},
   "outputs": [],
   "source": [
    "# Case sensitive?\n",
    "# Pyhton: String type and Dynamic"
   ]
  }
 ],
 "metadata": {
  "kernelspec": {
   "display_name": "bootcamp-env",
   "language": "python",
   "name": "python3"
  },
  "language_info": {
   "codemirror_mode": {
    "name": "ipython",
    "version": 3
   },
   "file_extension": ".py",
   "mimetype": "text/x-python",
   "name": "python",
   "nbconvert_exporter": "python",
   "pygments_lexer": "ipython3",
   "version": "3.13.5"
  }
 },
 "nbformat": 4,
 "nbformat_minor": 5
}
