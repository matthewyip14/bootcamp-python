{
 "cells": [
  {
   "cell_type": "code",
   "execution_count": 33,
   "id": "e47e1d1c",
   "metadata": {},
   "outputs": [],
   "source": [
    "# int x = 1;\n",
    "# x = 1;\n",
    "\n",
    "# x = 9;"
   ]
  },
  {
   "cell_type": "code",
   "execution_count": 34,
   "id": "a875325b",
   "metadata": {},
   "outputs": [
    {
     "name": "stdout",
     "output_type": "stream",
     "text": [
      "Jonh\n",
      "Hello, World! !!!\n"
     ]
    }
   ],
   "source": [
    "name = \"Jonh\"\n",
    "print(name)\n",
    "\n",
    "print(\"Hello, World!\", \"!!!\") # added space"
   ]
  },
  {
   "cell_type": "code",
   "execution_count": 35,
   "id": "c8aaf6e2",
   "metadata": {},
   "outputs": [],
   "source": [
    "# Naming Convention\n",
    "# Java: CamelCase style for vairable name: isMale = true\n",
    "# Python: is_male = True\n",
    "\n",
    "is_student = False"
   ]
  },
  {
   "cell_type": "code",
   "execution_count": null,
   "id": "6f13b7a0",
   "metadata": {},
   "outputs": [
    {
     "name": "stdout",
     "output_type": "stream",
     "text": [
      "24\n",
      "hellohello\n",
      "3.3333333333333335\n"
     ]
    },
    {
     "ename": "ZeroDivisionError",
     "evalue": "division by zero",
     "output_type": "error",
     "traceback": [
      "\u001b[31m---------------------------------------------------------------------------\u001b[39m",
      "\u001b[31mZeroDivisionError\u001b[39m                         Traceback (most recent call last)",
      "\u001b[36mCell\u001b[39m\u001b[36m \u001b[39m\u001b[32mIn[36]\u001b[39m\u001b[32m, line 8\u001b[39m\n\u001b[32m      6\u001b[39m \u001b[38;5;66;03m# divide /\u001b[39;00m\n\u001b[32m      7\u001b[39m \u001b[38;5;28mprint\u001b[39m(\u001b[32m10.0\u001b[39m / \u001b[32m3.0\u001b[39m)\n\u001b[32m----> \u001b[39m\u001b[32m8\u001b[39m \u001b[38;5;28mprint\u001b[39m(\u001b[32;43m10\u001b[39;49m\u001b[43m \u001b[49m\u001b[43m/\u001b[49m\u001b[43m \u001b[49m\u001b[32;43m0\u001b[39;49m)\n",
      "\u001b[31mZeroDivisionError\u001b[39m: division by zero"
     ]
    }
   ],
   "source": [
    "# Math\n",
    "# mutiply\n",
    "print(3 * 8)\n",
    "print(\"hello\" * 2)\n",
    "\n",
    "# divide /\n",
    "print(10 / 3) # integer division //\n",
    "# print(10 / 0) # division by zero\n",
    "\n"
   ]
  }
 ],
 "metadata": {
  "kernelspec": {
   "display_name": "bootcamp-env",
   "language": "python",
   "name": "python3"
  },
  "language_info": {
   "codemirror_mode": {
    "name": "ipython",
    "version": 3
   },
   "file_extension": ".py",
   "mimetype": "text/x-python",
   "name": "python",
   "nbconvert_exporter": "python",
   "pygments_lexer": "ipython3",
   "version": "3.13.5"
  }
 },
 "nbformat": 4,
 "nbformat_minor": 5
}
