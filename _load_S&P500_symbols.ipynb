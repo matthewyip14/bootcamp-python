{
 "cells": [
  {
   "cell_type": "code",
   "execution_count": 6,
   "id": "081451ae",
   "metadata": {},
   "outputs": [
    {
     "name": "stdout",
     "output_type": "stream",
     "text": [
      "📊 Fetching S&P 500 symbols...\n",
      "✅ Found 502 S&P 500 symbols\n",
      "First 10 symbols: ['MMM', 'AOS', 'ABT', 'ABBV', 'ACN', 'ADBE', 'AMD', 'AES', 'AFL', 'A']\n",
      "\n",
      "🗄️ Creating stock_ohlcs table...\n",
      "⚠️ Please run this SQL in your PostgreSQL database:\n",
      "\n",
      "    CREATE TABLE IF NOT EXISTS stock_ohlcs (\n",
      "        symbol VARCHAR(10),\n",
      "        date DATE,\n",
      "        low LONG,\n",
      "        high LONG,\n",
      "        open LONG,\n",
      "        close LONG,\n",
      "        volume LONG,\n",
      "        created_at TIMESTAMP DEFAULT CURRENT_TIMESTAMP,\n",
      "        PRIMARY KEY (symbol, date)\n",
      "    )\n",
      "    \n",
      "\n",
      "🚀 Starting to process 502 symbols...\n",
      "\n",
      "--- Processing MMM (1/502) ---\n",
      "🔄 Fetching data for MMM...\n",
      "✅ Found 502 S&P 500 symbols\n",
      "First 10 symbols: ['MMM', 'AOS', 'ABT', 'ABBV', 'ACN', 'ADBE', 'AMD', 'AES', 'AFL', 'A']\n",
      "\n",
      "🗄️ Creating stock_ohlcs table...\n",
      "⚠️ Please run this SQL in your PostgreSQL database:\n",
      "\n",
      "    CREATE TABLE IF NOT EXISTS stock_ohlcs (\n",
      "        symbol VARCHAR(10),\n",
      "        date DATE,\n",
      "        low LONG,\n",
      "        high LONG,\n",
      "        open LONG,\n",
      "        close LONG,\n",
      "        volume LONG,\n",
      "        created_at TIMESTAMP DEFAULT CURRENT_TIMESTAMP,\n",
      "        PRIMARY KEY (symbol, date)\n",
      "    )\n",
      "    \n",
      "\n",
      "🚀 Starting to process 502 symbols...\n",
      "\n",
      "--- Processing MMM (1/502) ---\n",
      "🔄 Fetching data for MMM...\n"
     ]
    },
    {
     "name": "stderr",
     "output_type": "stream",
     "text": [
      "/var/folders/yd/hjy7_qgx7516bfss7sldck_h0000gn/T/ipykernel_900/1041324049.py:99: FutureWarning: DataFrame.fillna with 'method' is deprecated and will raise in a future version. Use obj.ffill() or obj.bfill() instead.\n",
      "  stock_df = stock_df.fillna(method='ffill').fillna(method='bfill')\n"
     ]
    },
    {
     "name": "stdout",
     "output_type": "stream",
     "text": [
      "✅ Successfully fetched 752 records for MMM\n",
      "💾 Saved 752 records for MMM to database\n",
      "⏳ Waiting 1 second...\n",
      "\n",
      "--- Processing AOS (2/502) ---\n",
      "🔄 Fetching data for AOS...\n",
      "\n",
      "--- Processing AOS (2/502) ---\n",
      "🔄 Fetching data for AOS...\n"
     ]
    },
    {
     "name": "stderr",
     "output_type": "stream",
     "text": [
      "/var/folders/yd/hjy7_qgx7516bfss7sldck_h0000gn/T/ipykernel_900/1041324049.py:99: FutureWarning: DataFrame.fillna with 'method' is deprecated and will raise in a future version. Use obj.ffill() or obj.bfill() instead.\n",
      "  stock_df = stock_df.fillna(method='ffill').fillna(method='bfill')\n"
     ]
    },
    {
     "name": "stdout",
     "output_type": "stream",
     "text": [
      "✅ Successfully fetched 752 records for AOS\n",
      "💾 Saved 752 records for AOS to database\n",
      "⏳ Waiting 1 second...\n",
      "\n",
      "--- Processing ABT (3/502) ---\n",
      "🔄 Fetching data for ABT...\n",
      "\n",
      "--- Processing ABT (3/502) ---\n",
      "🔄 Fetching data for ABT...\n"
     ]
    },
    {
     "name": "stderr",
     "output_type": "stream",
     "text": [
      "/var/folders/yd/hjy7_qgx7516bfss7sldck_h0000gn/T/ipykernel_900/1041324049.py:99: FutureWarning: DataFrame.fillna with 'method' is deprecated and will raise in a future version. Use obj.ffill() or obj.bfill() instead.\n",
      "  stock_df = stock_df.fillna(method='ffill').fillna(method='bfill')\n"
     ]
    },
    {
     "name": "stdout",
     "output_type": "stream",
     "text": [
      "✅ Successfully fetched 752 records for ABT\n",
      "💾 Saved 752 records for ABT to database\n",
      "⏳ Waiting 1 second...\n",
      "\n",
      "--- Processing ABBV (4/502) ---\n",
      "🔄 Fetching data for ABBV...\n",
      "\n",
      "--- Processing ABBV (4/502) ---\n",
      "🔄 Fetching data for ABBV...\n"
     ]
    },
    {
     "name": "stderr",
     "output_type": "stream",
     "text": [
      "/var/folders/yd/hjy7_qgx7516bfss7sldck_h0000gn/T/ipykernel_900/1041324049.py:99: FutureWarning: DataFrame.fillna with 'method' is deprecated and will raise in a future version. Use obj.ffill() or obj.bfill() instead.\n",
      "  stock_df = stock_df.fillna(method='ffill').fillna(method='bfill')\n"
     ]
    },
    {
     "name": "stdout",
     "output_type": "stream",
     "text": [
      "✅ Successfully fetched 752 records for ABBV\n",
      "💾 Saved 752 records for ABBV to database\n",
      "⏳ Waiting 1 second...\n",
      "\n",
      "--- Processing ACN (5/502) ---\n",
      "🔄 Fetching data for ACN...\n",
      "\n",
      "--- Processing ACN (5/502) ---\n",
      "🔄 Fetching data for ACN...\n"
     ]
    },
    {
     "name": "stderr",
     "output_type": "stream",
     "text": [
      "/var/folders/yd/hjy7_qgx7516bfss7sldck_h0000gn/T/ipykernel_900/1041324049.py:99: FutureWarning: DataFrame.fillna with 'method' is deprecated and will raise in a future version. Use obj.ffill() or obj.bfill() instead.\n",
      "  stock_df = stock_df.fillna(method='ffill').fillna(method='bfill')\n"
     ]
    },
    {
     "name": "stdout",
     "output_type": "stream",
     "text": [
      "✅ Successfully fetched 752 records for ACN\n",
      "💾 Saved 752 records for ACN to database\n",
      "⏳ Waiting 1 second...\n",
      "\n",
      "--- Processing ADBE (6/502) ---\n",
      "🔄 Fetching data for ADBE...\n",
      "\n",
      "--- Processing ADBE (6/502) ---\n",
      "🔄 Fetching data for ADBE...\n"
     ]
    },
    {
     "name": "stderr",
     "output_type": "stream",
     "text": [
      "/var/folders/yd/hjy7_qgx7516bfss7sldck_h0000gn/T/ipykernel_900/1041324049.py:99: FutureWarning: DataFrame.fillna with 'method' is deprecated and will raise in a future version. Use obj.ffill() or obj.bfill() instead.\n",
      "  stock_df = stock_df.fillna(method='ffill').fillna(method='bfill')\n"
     ]
    },
    {
     "name": "stdout",
     "output_type": "stream",
     "text": [
      "✅ Successfully fetched 752 records for ADBE\n",
      "💾 Saved 752 records for ADBE to database\n",
      "⏳ Waiting 1 second...\n",
      "\n",
      "--- Processing AMD (7/502) ---\n",
      "🔄 Fetching data for AMD...\n",
      "\n",
      "--- Processing AMD (7/502) ---\n",
      "🔄 Fetching data for AMD...\n"
     ]
    },
    {
     "name": "stderr",
     "output_type": "stream",
     "text": [
      "/var/folders/yd/hjy7_qgx7516bfss7sldck_h0000gn/T/ipykernel_900/1041324049.py:99: FutureWarning: DataFrame.fillna with 'method' is deprecated and will raise in a future version. Use obj.ffill() or obj.bfill() instead.\n",
      "  stock_df = stock_df.fillna(method='ffill').fillna(method='bfill')\n"
     ]
    },
    {
     "name": "stdout",
     "output_type": "stream",
     "text": [
      "✅ Successfully fetched 752 records for AMD\n",
      "💾 Saved 752 records for AMD to database\n",
      "⏳ Waiting 1 second...\n",
      "\n",
      "--- Processing AES (8/502) ---\n",
      "🔄 Fetching data for AES...\n",
      "\n",
      "--- Processing AES (8/502) ---\n",
      "🔄 Fetching data for AES...\n"
     ]
    },
    {
     "name": "stderr",
     "output_type": "stream",
     "text": [
      "/var/folders/yd/hjy7_qgx7516bfss7sldck_h0000gn/T/ipykernel_900/1041324049.py:99: FutureWarning: DataFrame.fillna with 'method' is deprecated and will raise in a future version. Use obj.ffill() or obj.bfill() instead.\n",
      "  stock_df = stock_df.fillna(method='ffill').fillna(method='bfill')\n"
     ]
    },
    {
     "name": "stdout",
     "output_type": "stream",
     "text": [
      "✅ Successfully fetched 752 records for AES\n",
      "💾 Saved 752 records for AES to database\n",
      "⏳ Waiting 1 second...\n",
      "\n",
      "--- Processing AFL (9/502) ---\n",
      "🔄 Fetching data for AFL...\n",
      "\n",
      "--- Processing AFL (9/502) ---\n",
      "🔄 Fetching data for AFL...\n"
     ]
    },
    {
     "name": "stderr",
     "output_type": "stream",
     "text": [
      "/var/folders/yd/hjy7_qgx7516bfss7sldck_h0000gn/T/ipykernel_900/1041324049.py:99: FutureWarning: DataFrame.fillna with 'method' is deprecated and will raise in a future version. Use obj.ffill() or obj.bfill() instead.\n",
      "  stock_df = stock_df.fillna(method='ffill').fillna(method='bfill')\n"
     ]
    },
    {
     "name": "stdout",
     "output_type": "stream",
     "text": [
      "✅ Successfully fetched 752 records for AFL\n",
      "💾 Saved 752 records for AFL to database\n",
      "⏳ Waiting 1 second...\n",
      "\n",
      "--- Processing A (10/502) ---\n",
      "🔄 Fetching data for A...\n",
      "\n",
      "--- Processing A (10/502) ---\n",
      "🔄 Fetching data for A...\n"
     ]
    },
    {
     "name": "stderr",
     "output_type": "stream",
     "text": [
      "/var/folders/yd/hjy7_qgx7516bfss7sldck_h0000gn/T/ipykernel_900/1041324049.py:99: FutureWarning: DataFrame.fillna with 'method' is deprecated and will raise in a future version. Use obj.ffill() or obj.bfill() instead.\n",
      "  stock_df = stock_df.fillna(method='ffill').fillna(method='bfill')\n"
     ]
    },
    {
     "name": "stdout",
     "output_type": "stream",
     "text": [
      "✅ Successfully fetched 752 records for A\n",
      "💾 Saved 752 records for A to database\n",
      "⏳ Waiting 1 second...\n",
      "\n",
      "--- Processing APD (11/502) ---\n",
      "🔄 Fetching data for APD...\n",
      "\n",
      "--- Processing APD (11/502) ---\n",
      "🔄 Fetching data for APD...\n"
     ]
    },
    {
     "name": "stderr",
     "output_type": "stream",
     "text": [
      "/var/folders/yd/hjy7_qgx7516bfss7sldck_h0000gn/T/ipykernel_900/1041324049.py:99: FutureWarning: DataFrame.fillna with 'method' is deprecated and will raise in a future version. Use obj.ffill() or obj.bfill() instead.\n",
      "  stock_df = stock_df.fillna(method='ffill').fillna(method='bfill')\n"
     ]
    },
    {
     "name": "stdout",
     "output_type": "stream",
     "text": [
      "✅ Successfully fetched 752 records for APD\n",
      "💾 Saved 752 records for APD to database\n",
      "⏳ Waiting 1 second...\n",
      "\n",
      "--- Processing ABNB (12/502) ---\n",
      "🔄 Fetching data for ABNB...\n",
      "\n",
      "--- Processing ABNB (12/502) ---\n",
      "🔄 Fetching data for ABNB...\n"
     ]
    },
    {
     "name": "stderr",
     "output_type": "stream",
     "text": [
      "/var/folders/yd/hjy7_qgx7516bfss7sldck_h0000gn/T/ipykernel_900/1041324049.py:99: FutureWarning: DataFrame.fillna with 'method' is deprecated and will raise in a future version. Use obj.ffill() or obj.bfill() instead.\n",
      "  stock_df = stock_df.fillna(method='ffill').fillna(method='bfill')\n"
     ]
    },
    {
     "name": "stdout",
     "output_type": "stream",
     "text": [
      "✅ Successfully fetched 752 records for ABNB\n",
      "💾 Saved 752 records for ABNB to database\n",
      "⏳ Waiting 1 second...\n",
      "\n",
      "--- Processing AKAM (13/502) ---\n",
      "🔄 Fetching data for AKAM...\n",
      "\n",
      "--- Processing AKAM (13/502) ---\n",
      "🔄 Fetching data for AKAM...\n"
     ]
    },
    {
     "name": "stderr",
     "output_type": "stream",
     "text": [
      "/var/folders/yd/hjy7_qgx7516bfss7sldck_h0000gn/T/ipykernel_900/1041324049.py:99: FutureWarning: DataFrame.fillna with 'method' is deprecated and will raise in a future version. Use obj.ffill() or obj.bfill() instead.\n",
      "  stock_df = stock_df.fillna(method='ffill').fillna(method='bfill')\n"
     ]
    },
    {
     "name": "stdout",
     "output_type": "stream",
     "text": [
      "✅ Successfully fetched 752 records for AKAM\n",
      "💾 Saved 752 records for AKAM to database\n",
      "⏳ Waiting 1 second...\n",
      "\n",
      "--- Processing ALB (14/502) ---\n",
      "🔄 Fetching data for ALB...\n",
      "\n",
      "--- Processing ALB (14/502) ---\n",
      "🔄 Fetching data for ALB...\n"
     ]
    },
    {
     "name": "stderr",
     "output_type": "stream",
     "text": [
      "/var/folders/yd/hjy7_qgx7516bfss7sldck_h0000gn/T/ipykernel_900/1041324049.py:99: FutureWarning: DataFrame.fillna with 'method' is deprecated and will raise in a future version. Use obj.ffill() or obj.bfill() instead.\n",
      "  stock_df = stock_df.fillna(method='ffill').fillna(method='bfill')\n"
     ]
    },
    {
     "name": "stdout",
     "output_type": "stream",
     "text": [
      "✅ Successfully fetched 752 records for ALB\n",
      "💾 Saved 752 records for ALB to database\n",
      "⏳ Waiting 1 second...\n",
      "\n",
      "--- Processing ARE (15/502) ---\n",
      "🔄 Fetching data for ARE...\n",
      "\n",
      "--- Processing ARE (15/502) ---\n",
      "🔄 Fetching data for ARE...\n"
     ]
    },
    {
     "name": "stderr",
     "output_type": "stream",
     "text": [
      "/var/folders/yd/hjy7_qgx7516bfss7sldck_h0000gn/T/ipykernel_900/1041324049.py:99: FutureWarning: DataFrame.fillna with 'method' is deprecated and will raise in a future version. Use obj.ffill() or obj.bfill() instead.\n",
      "  stock_df = stock_df.fillna(method='ffill').fillna(method='bfill')\n"
     ]
    },
    {
     "name": "stdout",
     "output_type": "stream",
     "text": [
      "✅ Successfully fetched 752 records for ARE\n",
      "💾 Saved 752 records for ARE to database\n",
      "⏳ Waiting 1 second...\n",
      "\n",
      "--- Processing ALGN (16/502) ---\n",
      "🔄 Fetching data for ALGN...\n",
      "\n",
      "--- Processing ALGN (16/502) ---\n",
      "🔄 Fetching data for ALGN...\n"
     ]
    },
    {
     "name": "stderr",
     "output_type": "stream",
     "text": [
      "/var/folders/yd/hjy7_qgx7516bfss7sldck_h0000gn/T/ipykernel_900/1041324049.py:99: FutureWarning: DataFrame.fillna with 'method' is deprecated and will raise in a future version. Use obj.ffill() or obj.bfill() instead.\n",
      "  stock_df = stock_df.fillna(method='ffill').fillna(method='bfill')\n"
     ]
    },
    {
     "name": "stdout",
     "output_type": "stream",
     "text": [
      "✅ Successfully fetched 752 records for ALGN\n",
      "💾 Saved 752 records for ALGN to database\n",
      "⏳ Waiting 1 second...\n",
      "\n",
      "--- Processing ALLE (17/502) ---\n",
      "🔄 Fetching data for ALLE...\n",
      "\n",
      "--- Processing ALLE (17/502) ---\n",
      "🔄 Fetching data for ALLE...\n"
     ]
    },
    {
     "name": "stderr",
     "output_type": "stream",
     "text": [
      "/var/folders/yd/hjy7_qgx7516bfss7sldck_h0000gn/T/ipykernel_900/1041324049.py:99: FutureWarning: DataFrame.fillna with 'method' is deprecated and will raise in a future version. Use obj.ffill() or obj.bfill() instead.\n",
      "  stock_df = stock_df.fillna(method='ffill').fillna(method='bfill')\n"
     ]
    },
    {
     "name": "stdout",
     "output_type": "stream",
     "text": [
      "✅ Successfully fetched 752 records for ALLE\n",
      "💾 Saved 752 records for ALLE to database\n",
      "⏳ Waiting 1 second...\n",
      "\n",
      "--- Processing LNT (18/502) ---\n",
      "🔄 Fetching data for LNT...\n",
      "\n",
      "--- Processing LNT (18/502) ---\n",
      "🔄 Fetching data for LNT...\n"
     ]
    },
    {
     "name": "stderr",
     "output_type": "stream",
     "text": [
      "/var/folders/yd/hjy7_qgx7516bfss7sldck_h0000gn/T/ipykernel_900/1041324049.py:99: FutureWarning: DataFrame.fillna with 'method' is deprecated and will raise in a future version. Use obj.ffill() or obj.bfill() instead.\n",
      "  stock_df = stock_df.fillna(method='ffill').fillna(method='bfill')\n"
     ]
    },
    {
     "name": "stdout",
     "output_type": "stream",
     "text": [
      "✅ Successfully fetched 752 records for LNT\n",
      "💾 Saved 752 records for LNT to database\n",
      "⏳ Waiting 1 second...\n",
      "\n",
      "--- Processing ALL (19/502) ---\n",
      "🔄 Fetching data for ALL...\n",
      "\n",
      "--- Processing ALL (19/502) ---\n",
      "🔄 Fetching data for ALL...\n"
     ]
    },
    {
     "name": "stderr",
     "output_type": "stream",
     "text": [
      "/var/folders/yd/hjy7_qgx7516bfss7sldck_h0000gn/T/ipykernel_900/1041324049.py:99: FutureWarning: DataFrame.fillna with 'method' is deprecated and will raise in a future version. Use obj.ffill() or obj.bfill() instead.\n",
      "  stock_df = stock_df.fillna(method='ffill').fillna(method='bfill')\n"
     ]
    },
    {
     "name": "stdout",
     "output_type": "stream",
     "text": [
      "✅ Successfully fetched 752 records for ALL\n",
      "💾 Saved 752 records for ALL to database\n",
      "⏳ Waiting 1 second...\n",
      "\n",
      "--- Processing GOOGL (20/502) ---\n",
      "🔄 Fetching data for GOOGL...\n",
      "\n",
      "--- Processing GOOGL (20/502) ---\n",
      "🔄 Fetching data for GOOGL...\n"
     ]
    },
    {
     "name": "stderr",
     "output_type": "stream",
     "text": [
      "/var/folders/yd/hjy7_qgx7516bfss7sldck_h0000gn/T/ipykernel_900/1041324049.py:99: FutureWarning: DataFrame.fillna with 'method' is deprecated and will raise in a future version. Use obj.ffill() or obj.bfill() instead.\n",
      "  stock_df = stock_df.fillna(method='ffill').fillna(method='bfill')\n"
     ]
    },
    {
     "name": "stdout",
     "output_type": "stream",
     "text": [
      "✅ Successfully fetched 752 records for GOOGL\n",
      "💾 Saved 752 records for GOOGL to database\n",
      "⏳ Waiting 1 second...\n",
      "\n",
      "--- Processing GOOG (21/502) ---\n",
      "🔄 Fetching data for GOOG...\n",
      "\n",
      "--- Processing GOOG (21/502) ---\n",
      "🔄 Fetching data for GOOG...\n"
     ]
    },
    {
     "name": "stderr",
     "output_type": "stream",
     "text": [
      "/var/folders/yd/hjy7_qgx7516bfss7sldck_h0000gn/T/ipykernel_900/1041324049.py:99: FutureWarning: DataFrame.fillna with 'method' is deprecated and will raise in a future version. Use obj.ffill() or obj.bfill() instead.\n",
      "  stock_df = stock_df.fillna(method='ffill').fillna(method='bfill')\n"
     ]
    },
    {
     "name": "stdout",
     "output_type": "stream",
     "text": [
      "✅ Successfully fetched 752 records for GOOG\n",
      "💾 Saved 752 records for GOOG to database\n",
      "⏳ Waiting 1 second...\n",
      "\n",
      "--- Processing MO (22/502) ---\n",
      "🔄 Fetching data for MO...\n",
      "\n",
      "--- Processing MO (22/502) ---\n",
      "🔄 Fetching data for MO...\n"
     ]
    },
    {
     "name": "stderr",
     "output_type": "stream",
     "text": [
      "/var/folders/yd/hjy7_qgx7516bfss7sldck_h0000gn/T/ipykernel_900/1041324049.py:99: FutureWarning: DataFrame.fillna with 'method' is deprecated and will raise in a future version. Use obj.ffill() or obj.bfill() instead.\n",
      "  stock_df = stock_df.fillna(method='ffill').fillna(method='bfill')\n"
     ]
    },
    {
     "name": "stdout",
     "output_type": "stream",
     "text": [
      "✅ Successfully fetched 752 records for MO\n",
      "💾 Saved 752 records for MO to database\n",
      "⏳ Waiting 1 second...\n",
      "\n",
      "--- Processing AMZN (23/502) ---\n",
      "🔄 Fetching data for AMZN...\n",
      "\n",
      "--- Processing AMZN (23/502) ---\n",
      "🔄 Fetching data for AMZN...\n"
     ]
    },
    {
     "name": "stderr",
     "output_type": "stream",
     "text": [
      "/var/folders/yd/hjy7_qgx7516bfss7sldck_h0000gn/T/ipykernel_900/1041324049.py:99: FutureWarning: DataFrame.fillna with 'method' is deprecated and will raise in a future version. Use obj.ffill() or obj.bfill() instead.\n",
      "  stock_df = stock_df.fillna(method='ffill').fillna(method='bfill')\n"
     ]
    },
    {
     "name": "stdout",
     "output_type": "stream",
     "text": [
      "✅ Successfully fetched 752 records for AMZN\n",
      "💾 Saved 752 records for AMZN to database\n",
      "⏳ Waiting 1 second...\n",
      "\n",
      "--- Processing AMCR (24/502) ---\n",
      "🔄 Fetching data for AMCR...\n",
      "\n",
      "--- Processing AMCR (24/502) ---\n",
      "🔄 Fetching data for AMCR...\n"
     ]
    },
    {
     "name": "stderr",
     "output_type": "stream",
     "text": [
      "/var/folders/yd/hjy7_qgx7516bfss7sldck_h0000gn/T/ipykernel_900/1041324049.py:99: FutureWarning: DataFrame.fillna with 'method' is deprecated and will raise in a future version. Use obj.ffill() or obj.bfill() instead.\n",
      "  stock_df = stock_df.fillna(method='ffill').fillna(method='bfill')\n"
     ]
    },
    {
     "name": "stdout",
     "output_type": "stream",
     "text": [
      "✅ Successfully fetched 752 records for AMCR\n",
      "💾 Saved 752 records for AMCR to database\n",
      "⏳ Waiting 1 second...\n",
      "\n",
      "--- Processing AEE (25/502) ---\n",
      "🔄 Fetching data for AEE...\n",
      "\n",
      "--- Processing AEE (25/502) ---\n",
      "🔄 Fetching data for AEE...\n"
     ]
    },
    {
     "name": "stderr",
     "output_type": "stream",
     "text": [
      "/var/folders/yd/hjy7_qgx7516bfss7sldck_h0000gn/T/ipykernel_900/1041324049.py:99: FutureWarning: DataFrame.fillna with 'method' is deprecated and will raise in a future version. Use obj.ffill() or obj.bfill() instead.\n",
      "  stock_df = stock_df.fillna(method='ffill').fillna(method='bfill')\n"
     ]
    },
    {
     "name": "stdout",
     "output_type": "stream",
     "text": [
      "✅ Successfully fetched 752 records for AEE\n",
      "💾 Saved 752 records for AEE to database\n",
      "⏳ Waiting 1 second...\n",
      "\n",
      "--- Processing AEP (26/502) ---\n",
      "🔄 Fetching data for AEP...\n",
      "\n",
      "--- Processing AEP (26/502) ---\n",
      "🔄 Fetching data for AEP...\n"
     ]
    },
    {
     "name": "stderr",
     "output_type": "stream",
     "text": [
      "/var/folders/yd/hjy7_qgx7516bfss7sldck_h0000gn/T/ipykernel_900/1041324049.py:99: FutureWarning: DataFrame.fillna with 'method' is deprecated and will raise in a future version. Use obj.ffill() or obj.bfill() instead.\n",
      "  stock_df = stock_df.fillna(method='ffill').fillna(method='bfill')\n"
     ]
    },
    {
     "name": "stdout",
     "output_type": "stream",
     "text": [
      "✅ Successfully fetched 752 records for AEP\n",
      "💾 Saved 752 records for AEP to database\n",
      "⏳ Waiting 1 second...\n",
      "\n",
      "--- Processing AXP (27/502) ---\n",
      "🔄 Fetching data for AXP...\n",
      "\n",
      "--- Processing AXP (27/502) ---\n",
      "🔄 Fetching data for AXP...\n"
     ]
    },
    {
     "name": "stderr",
     "output_type": "stream",
     "text": [
      "/var/folders/yd/hjy7_qgx7516bfss7sldck_h0000gn/T/ipykernel_900/1041324049.py:99: FutureWarning: DataFrame.fillna with 'method' is deprecated and will raise in a future version. Use obj.ffill() or obj.bfill() instead.\n",
      "  stock_df = stock_df.fillna(method='ffill').fillna(method='bfill')\n"
     ]
    },
    {
     "name": "stdout",
     "output_type": "stream",
     "text": [
      "✅ Successfully fetched 752 records for AXP\n",
      "💾 Saved 752 records for AXP to database\n",
      "⏳ Waiting 1 second...\n",
      "\n",
      "--- Processing AIG (28/502) ---\n",
      "🔄 Fetching data for AIG...\n",
      "\n",
      "--- Processing AIG (28/502) ---\n",
      "🔄 Fetching data for AIG...\n"
     ]
    },
    {
     "name": "stderr",
     "output_type": "stream",
     "text": [
      "/var/folders/yd/hjy7_qgx7516bfss7sldck_h0000gn/T/ipykernel_900/1041324049.py:99: FutureWarning: DataFrame.fillna with 'method' is deprecated and will raise in a future version. Use obj.ffill() or obj.bfill() instead.\n",
      "  stock_df = stock_df.fillna(method='ffill').fillna(method='bfill')\n"
     ]
    },
    {
     "name": "stdout",
     "output_type": "stream",
     "text": [
      "✅ Successfully fetched 752 records for AIG\n",
      "💾 Saved 752 records for AIG to database\n",
      "⏳ Waiting 1 second...\n",
      "\n",
      "--- Processing AMT (29/502) ---\n",
      "🔄 Fetching data for AMT...\n",
      "\n",
      "--- Processing AMT (29/502) ---\n",
      "🔄 Fetching data for AMT...\n"
     ]
    },
    {
     "name": "stderr",
     "output_type": "stream",
     "text": [
      "/var/folders/yd/hjy7_qgx7516bfss7sldck_h0000gn/T/ipykernel_900/1041324049.py:99: FutureWarning: DataFrame.fillna with 'method' is deprecated and will raise in a future version. Use obj.ffill() or obj.bfill() instead.\n",
      "  stock_df = stock_df.fillna(method='ffill').fillna(method='bfill')\n"
     ]
    },
    {
     "name": "stdout",
     "output_type": "stream",
     "text": [
      "✅ Successfully fetched 752 records for AMT\n",
      "💾 Saved 752 records for AMT to database\n",
      "⏳ Waiting 1 second...\n",
      "\n",
      "--- Processing AWK (30/502) ---\n",
      "🔄 Fetching data for AWK...\n",
      "\n",
      "--- Processing AWK (30/502) ---\n",
      "🔄 Fetching data for AWK...\n"
     ]
    },
    {
     "name": "stderr",
     "output_type": "stream",
     "text": [
      "/var/folders/yd/hjy7_qgx7516bfss7sldck_h0000gn/T/ipykernel_900/1041324049.py:99: FutureWarning: DataFrame.fillna with 'method' is deprecated and will raise in a future version. Use obj.ffill() or obj.bfill() instead.\n",
      "  stock_df = stock_df.fillna(method='ffill').fillna(method='bfill')\n"
     ]
    },
    {
     "name": "stdout",
     "output_type": "stream",
     "text": [
      "✅ Successfully fetched 752 records for AWK\n",
      "💾 Saved 752 records for AWK to database\n",
      "⏳ Waiting 1 second...\n",
      "\n",
      "--- Processing AMP (31/502) ---\n",
      "🔄 Fetching data for AMP...\n",
      "\n",
      "--- Processing AMP (31/502) ---\n",
      "🔄 Fetching data for AMP...\n"
     ]
    },
    {
     "name": "stderr",
     "output_type": "stream",
     "text": [
      "/var/folders/yd/hjy7_qgx7516bfss7sldck_h0000gn/T/ipykernel_900/1041324049.py:99: FutureWarning: DataFrame.fillna with 'method' is deprecated and will raise in a future version. Use obj.ffill() or obj.bfill() instead.\n",
      "  stock_df = stock_df.fillna(method='ffill').fillna(method='bfill')\n"
     ]
    },
    {
     "name": "stdout",
     "output_type": "stream",
     "text": [
      "✅ Successfully fetched 752 records for AMP\n",
      "💾 Saved 752 records for AMP to database\n",
      "⏳ Waiting 1 second...\n",
      "\n",
      "--- Processing AME (32/502) ---\n",
      "🔄 Fetching data for AME...\n",
      "✅ Successfully fetched 752 records for AME\n",
      "\n",
      "--- Processing AME (32/502) ---\n",
      "🔄 Fetching data for AME...\n",
      "✅ Successfully fetched 752 records for AME\n"
     ]
    },
    {
     "name": "stderr",
     "output_type": "stream",
     "text": [
      "/var/folders/yd/hjy7_qgx7516bfss7sldck_h0000gn/T/ipykernel_900/1041324049.py:99: FutureWarning: DataFrame.fillna with 'method' is deprecated and will raise in a future version. Use obj.ffill() or obj.bfill() instead.\n",
      "  stock_df = stock_df.fillna(method='ffill').fillna(method='bfill')\n"
     ]
    },
    {
     "name": "stdout",
     "output_type": "stream",
     "text": [
      "💾 Saved 752 records for AME to database\n",
      "⏳ Waiting 1 second...\n",
      "\n",
      "--- Processing AMGN (33/502) ---\n",
      "🔄 Fetching data for AMGN...\n",
      "✅ Successfully fetched 752 records for AMGN\n",
      "\n",
      "--- Processing AMGN (33/502) ---\n",
      "🔄 Fetching data for AMGN...\n",
      "✅ Successfully fetched 752 records for AMGN\n"
     ]
    },
    {
     "name": "stderr",
     "output_type": "stream",
     "text": [
      "/var/folders/yd/hjy7_qgx7516bfss7sldck_h0000gn/T/ipykernel_900/1041324049.py:99: FutureWarning: DataFrame.fillna with 'method' is deprecated and will raise in a future version. Use obj.ffill() or obj.bfill() instead.\n",
      "  stock_df = stock_df.fillna(method='ffill').fillna(method='bfill')\n"
     ]
    },
    {
     "name": "stdout",
     "output_type": "stream",
     "text": [
      "💾 Saved 752 records for AMGN to database\n",
      "⏳ Waiting 1 second...\n",
      "\n",
      "--- Processing APH (34/502) ---\n",
      "🔄 Fetching data for APH...\n",
      "✅ Successfully fetched 752 records for APH\n",
      "\n",
      "--- Processing APH (34/502) ---\n",
      "🔄 Fetching data for APH...\n",
      "✅ Successfully fetched 752 records for APH\n"
     ]
    },
    {
     "name": "stderr",
     "output_type": "stream",
     "text": [
      "/var/folders/yd/hjy7_qgx7516bfss7sldck_h0000gn/T/ipykernel_900/1041324049.py:99: FutureWarning: DataFrame.fillna with 'method' is deprecated and will raise in a future version. Use obj.ffill() or obj.bfill() instead.\n",
      "  stock_df = stock_df.fillna(method='ffill').fillna(method='bfill')\n"
     ]
    },
    {
     "name": "stdout",
     "output_type": "stream",
     "text": [
      "💾 Saved 752 records for APH to database\n",
      "⏳ Waiting 1 second...\n",
      "\n",
      "--- Processing ADI (35/502) ---\n",
      "🔄 Fetching data for ADI...\n",
      "✅ Successfully fetched 752 records for ADI\n",
      "\n",
      "--- Processing ADI (35/502) ---\n",
      "🔄 Fetching data for ADI...\n",
      "✅ Successfully fetched 752 records for ADI\n"
     ]
    },
    {
     "name": "stderr",
     "output_type": "stream",
     "text": [
      "/var/folders/yd/hjy7_qgx7516bfss7sldck_h0000gn/T/ipykernel_900/1041324049.py:99: FutureWarning: DataFrame.fillna with 'method' is deprecated and will raise in a future version. Use obj.ffill() or obj.bfill() instead.\n",
      "  stock_df = stock_df.fillna(method='ffill').fillna(method='bfill')\n"
     ]
    },
    {
     "name": "stdout",
     "output_type": "stream",
     "text": [
      "💾 Saved 752 records for ADI to database\n",
      "⏳ Waiting 1 second...\n",
      "\n",
      "--- Processing AON (36/502) ---\n",
      "🔄 Fetching data for AON...\n",
      "✅ Successfully fetched 752 records for AON\n",
      "\n",
      "--- Processing AON (36/502) ---\n",
      "🔄 Fetching data for AON...\n",
      "✅ Successfully fetched 752 records for AON\n"
     ]
    },
    {
     "name": "stderr",
     "output_type": "stream",
     "text": [
      "/var/folders/yd/hjy7_qgx7516bfss7sldck_h0000gn/T/ipykernel_900/1041324049.py:99: FutureWarning: DataFrame.fillna with 'method' is deprecated and will raise in a future version. Use obj.ffill() or obj.bfill() instead.\n",
      "  stock_df = stock_df.fillna(method='ffill').fillna(method='bfill')\n"
     ]
    },
    {
     "name": "stdout",
     "output_type": "stream",
     "text": [
      "💾 Saved 752 records for AON to database\n",
      "⏳ Waiting 1 second...\n",
      "\n",
      "--- Processing APA (37/502) ---\n",
      "🔄 Fetching data for APA...\n",
      "\n",
      "--- Processing APA (37/502) ---\n",
      "🔄 Fetching data for APA...\n"
     ]
    },
    {
     "name": "stderr",
     "output_type": "stream",
     "text": [
      "/var/folders/yd/hjy7_qgx7516bfss7sldck_h0000gn/T/ipykernel_900/1041324049.py:99: FutureWarning: DataFrame.fillna with 'method' is deprecated and will raise in a future version. Use obj.ffill() or obj.bfill() instead.\n",
      "  stock_df = stock_df.fillna(method='ffill').fillna(method='bfill')\n"
     ]
    },
    {
     "name": "stdout",
     "output_type": "stream",
     "text": [
      "✅ Successfully fetched 752 records for APA\n",
      "💾 Saved 752 records for APA to database\n",
      "⏳ Waiting 1 second...\n",
      "\n",
      "--- Processing APO (38/502) ---\n",
      "🔄 Fetching data for APO...\n",
      "✅ Successfully fetched 752 records for APO\n",
      "\n",
      "--- Processing APO (38/502) ---\n",
      "🔄 Fetching data for APO...\n",
      "✅ Successfully fetched 752 records for APO\n"
     ]
    },
    {
     "name": "stderr",
     "output_type": "stream",
     "text": [
      "/var/folders/yd/hjy7_qgx7516bfss7sldck_h0000gn/T/ipykernel_900/1041324049.py:99: FutureWarning: DataFrame.fillna with 'method' is deprecated and will raise in a future version. Use obj.ffill() or obj.bfill() instead.\n",
      "  stock_df = stock_df.fillna(method='ffill').fillna(method='bfill')\n"
     ]
    },
    {
     "name": "stdout",
     "output_type": "stream",
     "text": [
      "💾 Saved 752 records for APO to database\n",
      "⏳ Waiting 1 second...\n",
      "\n",
      "--- Processing AAPL (39/502) ---\n",
      "🔄 Fetching data for AAPL...\n",
      "✅ Successfully fetched 752 records for AAPL\n",
      "\n",
      "--- Processing AAPL (39/502) ---\n",
      "🔄 Fetching data for AAPL...\n",
      "✅ Successfully fetched 752 records for AAPL\n"
     ]
    },
    {
     "name": "stderr",
     "output_type": "stream",
     "text": [
      "/var/folders/yd/hjy7_qgx7516bfss7sldck_h0000gn/T/ipykernel_900/1041324049.py:99: FutureWarning: DataFrame.fillna with 'method' is deprecated and will raise in a future version. Use obj.ffill() or obj.bfill() instead.\n",
      "  stock_df = stock_df.fillna(method='ffill').fillna(method='bfill')\n"
     ]
    },
    {
     "name": "stdout",
     "output_type": "stream",
     "text": [
      "💾 Saved 752 records for AAPL to database\n",
      "⏳ Waiting 1 second...\n",
      "\n",
      "--- Processing AMAT (40/502) ---\n",
      "🔄 Fetching data for AMAT...\n",
      "✅ Successfully fetched 752 records for AMAT\n",
      "\n",
      "--- Processing AMAT (40/502) ---\n",
      "🔄 Fetching data for AMAT...\n",
      "✅ Successfully fetched 752 records for AMAT\n"
     ]
    },
    {
     "name": "stderr",
     "output_type": "stream",
     "text": [
      "/var/folders/yd/hjy7_qgx7516bfss7sldck_h0000gn/T/ipykernel_900/1041324049.py:99: FutureWarning: DataFrame.fillna with 'method' is deprecated and will raise in a future version. Use obj.ffill() or obj.bfill() instead.\n",
      "  stock_df = stock_df.fillna(method='ffill').fillna(method='bfill')\n"
     ]
    },
    {
     "name": "stdout",
     "output_type": "stream",
     "text": [
      "💾 Saved 752 records for AMAT to database\n",
      "⏳ Waiting 1 second...\n",
      "\n",
      "--- Processing APTV (41/502) ---\n",
      "🔄 Fetching data for APTV...\n",
      "✅ Successfully fetched 752 records for APTV\n",
      "\n",
      "--- Processing APTV (41/502) ---\n",
      "🔄 Fetching data for APTV...\n",
      "✅ Successfully fetched 752 records for APTV\n"
     ]
    },
    {
     "name": "stderr",
     "output_type": "stream",
     "text": [
      "/var/folders/yd/hjy7_qgx7516bfss7sldck_h0000gn/T/ipykernel_900/1041324049.py:99: FutureWarning: DataFrame.fillna with 'method' is deprecated and will raise in a future version. Use obj.ffill() or obj.bfill() instead.\n",
      "  stock_df = stock_df.fillna(method='ffill').fillna(method='bfill')\n"
     ]
    },
    {
     "name": "stdout",
     "output_type": "stream",
     "text": [
      "💾 Saved 752 records for APTV to database\n",
      "⏳ Waiting 1 second...\n",
      "\n",
      "--- Processing ACGL (42/502) ---\n",
      "🔄 Fetching data for ACGL...\n",
      "✅ Successfully fetched 752 records for ACGL\n",
      "\n",
      "--- Processing ACGL (42/502) ---\n",
      "🔄 Fetching data for ACGL...\n",
      "✅ Successfully fetched 752 records for ACGL\n"
     ]
    },
    {
     "name": "stderr",
     "output_type": "stream",
     "text": [
      "/var/folders/yd/hjy7_qgx7516bfss7sldck_h0000gn/T/ipykernel_900/1041324049.py:99: FutureWarning: DataFrame.fillna with 'method' is deprecated and will raise in a future version. Use obj.ffill() or obj.bfill() instead.\n",
      "  stock_df = stock_df.fillna(method='ffill').fillna(method='bfill')\n"
     ]
    },
    {
     "name": "stdout",
     "output_type": "stream",
     "text": [
      "💾 Saved 752 records for ACGL to database\n",
      "⏳ Waiting 1 second...\n",
      "\n",
      "--- Processing ADM (43/502) ---\n",
      "🔄 Fetching data for ADM...\n",
      "\n",
      "--- Processing ADM (43/502) ---\n",
      "🔄 Fetching data for ADM...\n"
     ]
    },
    {
     "name": "stderr",
     "output_type": "stream",
     "text": [
      "/var/folders/yd/hjy7_qgx7516bfss7sldck_h0000gn/T/ipykernel_900/1041324049.py:99: FutureWarning: DataFrame.fillna with 'method' is deprecated and will raise in a future version. Use obj.ffill() or obj.bfill() instead.\n",
      "  stock_df = stock_df.fillna(method='ffill').fillna(method='bfill')\n"
     ]
    },
    {
     "name": "stdout",
     "output_type": "stream",
     "text": [
      "✅ Successfully fetched 752 records for ADM\n",
      "💾 Saved 752 records for ADM to database\n",
      "⏳ Waiting 1 second...\n",
      "\n",
      "--- Processing ANET (44/502) ---\n",
      "🔄 Fetching data for ANET...\n",
      "✅ Successfully fetched 752 records for ANET\n",
      "\n",
      "--- Processing ANET (44/502) ---\n",
      "🔄 Fetching data for ANET...\n",
      "✅ Successfully fetched 752 records for ANET\n"
     ]
    },
    {
     "name": "stderr",
     "output_type": "stream",
     "text": [
      "/var/folders/yd/hjy7_qgx7516bfss7sldck_h0000gn/T/ipykernel_900/1041324049.py:99: FutureWarning: DataFrame.fillna with 'method' is deprecated and will raise in a future version. Use obj.ffill() or obj.bfill() instead.\n",
      "  stock_df = stock_df.fillna(method='ffill').fillna(method='bfill')\n"
     ]
    },
    {
     "name": "stdout",
     "output_type": "stream",
     "text": [
      "💾 Saved 752 records for ANET to database\n",
      "⏳ Waiting 1 second...\n",
      "\n",
      "--- Processing AJG (45/502) ---\n",
      "🔄 Fetching data for AJG...\n",
      "✅ Successfully fetched 752 records for AJG\n",
      "\n",
      "--- Processing AJG (45/502) ---\n",
      "🔄 Fetching data for AJG...\n",
      "✅ Successfully fetched 752 records for AJG\n"
     ]
    },
    {
     "name": "stderr",
     "output_type": "stream",
     "text": [
      "/var/folders/yd/hjy7_qgx7516bfss7sldck_h0000gn/T/ipykernel_900/1041324049.py:99: FutureWarning: DataFrame.fillna with 'method' is deprecated and will raise in a future version. Use obj.ffill() or obj.bfill() instead.\n",
      "  stock_df = stock_df.fillna(method='ffill').fillna(method='bfill')\n"
     ]
    },
    {
     "name": "stdout",
     "output_type": "stream",
     "text": [
      "💾 Saved 752 records for AJG to database\n",
      "⏳ Waiting 1 second...\n",
      "\n",
      "--- Processing AIZ (46/502) ---\n",
      "🔄 Fetching data for AIZ...\n",
      "✅ Successfully fetched 752 records for AIZ\n",
      "\n",
      "--- Processing AIZ (46/502) ---\n",
      "🔄 Fetching data for AIZ...\n",
      "✅ Successfully fetched 752 records for AIZ\n"
     ]
    },
    {
     "name": "stderr",
     "output_type": "stream",
     "text": [
      "/var/folders/yd/hjy7_qgx7516bfss7sldck_h0000gn/T/ipykernel_900/1041324049.py:99: FutureWarning: DataFrame.fillna with 'method' is deprecated and will raise in a future version. Use obj.ffill() or obj.bfill() instead.\n",
      "  stock_df = stock_df.fillna(method='ffill').fillna(method='bfill')\n"
     ]
    },
    {
     "name": "stdout",
     "output_type": "stream",
     "text": [
      "💾 Saved 752 records for AIZ to database\n",
      "⏳ Waiting 1 second...\n",
      "\n",
      "--- Processing T (47/502) ---\n",
      "🔄 Fetching data for T...\n",
      "✅ Successfully fetched 752 records for T\n",
      "\n",
      "--- Processing T (47/502) ---\n",
      "🔄 Fetching data for T...\n",
      "✅ Successfully fetched 752 records for T\n"
     ]
    },
    {
     "name": "stderr",
     "output_type": "stream",
     "text": [
      "/var/folders/yd/hjy7_qgx7516bfss7sldck_h0000gn/T/ipykernel_900/1041324049.py:99: FutureWarning: DataFrame.fillna with 'method' is deprecated and will raise in a future version. Use obj.ffill() or obj.bfill() instead.\n",
      "  stock_df = stock_df.fillna(method='ffill').fillna(method='bfill')\n"
     ]
    },
    {
     "name": "stdout",
     "output_type": "stream",
     "text": [
      "💾 Saved 752 records for T to database\n",
      "⏳ Waiting 1 second...\n",
      "\n",
      "--- Processing ATO (48/502) ---\n",
      "🔄 Fetching data for ATO...\n",
      "✅ Successfully fetched 752 records for ATO\n",
      "\n",
      "--- Processing ATO (48/502) ---\n",
      "🔄 Fetching data for ATO...\n",
      "✅ Successfully fetched 752 records for ATO\n"
     ]
    },
    {
     "name": "stderr",
     "output_type": "stream",
     "text": [
      "/var/folders/yd/hjy7_qgx7516bfss7sldck_h0000gn/T/ipykernel_900/1041324049.py:99: FutureWarning: DataFrame.fillna with 'method' is deprecated and will raise in a future version. Use obj.ffill() or obj.bfill() instead.\n",
      "  stock_df = stock_df.fillna(method='ffill').fillna(method='bfill')\n"
     ]
    },
    {
     "name": "stdout",
     "output_type": "stream",
     "text": [
      "💾 Saved 752 records for ATO to database\n",
      "⏳ Waiting 1 second...\n",
      "\n",
      "--- Processing ADSK (49/502) ---\n",
      "🔄 Fetching data for ADSK...\n",
      "✅ Successfully fetched 752 records for ADSK\n",
      "\n",
      "--- Processing ADSK (49/502) ---\n",
      "🔄 Fetching data for ADSK...\n",
      "✅ Successfully fetched 752 records for ADSK\n"
     ]
    },
    {
     "name": "stderr",
     "output_type": "stream",
     "text": [
      "/var/folders/yd/hjy7_qgx7516bfss7sldck_h0000gn/T/ipykernel_900/1041324049.py:99: FutureWarning: DataFrame.fillna with 'method' is deprecated and will raise in a future version. Use obj.ffill() or obj.bfill() instead.\n",
      "  stock_df = stock_df.fillna(method='ffill').fillna(method='bfill')\n"
     ]
    },
    {
     "name": "stdout",
     "output_type": "stream",
     "text": [
      "💾 Saved 752 records for ADSK to database\n",
      "⏳ Waiting 1 second...\n",
      "\n",
      "--- Processing ADP (50/502) ---\n",
      "🔄 Fetching data for ADP...\n",
      "\n",
      "--- Processing ADP (50/502) ---\n",
      "🔄 Fetching data for ADP...\n"
     ]
    },
    {
     "name": "stderr",
     "output_type": "stream",
     "text": [
      "/var/folders/yd/hjy7_qgx7516bfss7sldck_h0000gn/T/ipykernel_900/1041324049.py:99: FutureWarning: DataFrame.fillna with 'method' is deprecated and will raise in a future version. Use obj.ffill() or obj.bfill() instead.\n",
      "  stock_df = stock_df.fillna(method='ffill').fillna(method='bfill')\n"
     ]
    },
    {
     "name": "stdout",
     "output_type": "stream",
     "text": [
      "✅ Successfully fetched 752 records for ADP\n",
      "💾 Saved 752 records for ADP to database\n",
      "⏳ Waiting 1 second...\n",
      "\n",
      "--- Processing AZO (51/502) ---\n",
      "🔄 Fetching data for AZO...\n",
      "✅ Successfully fetched 752 records for AZO\n",
      "\n",
      "--- Processing AZO (51/502) ---\n",
      "🔄 Fetching data for AZO...\n",
      "✅ Successfully fetched 752 records for AZO\n"
     ]
    },
    {
     "name": "stderr",
     "output_type": "stream",
     "text": [
      "/var/folders/yd/hjy7_qgx7516bfss7sldck_h0000gn/T/ipykernel_900/1041324049.py:99: FutureWarning: DataFrame.fillna with 'method' is deprecated and will raise in a future version. Use obj.ffill() or obj.bfill() instead.\n",
      "  stock_df = stock_df.fillna(method='ffill').fillna(method='bfill')\n"
     ]
    },
    {
     "name": "stdout",
     "output_type": "stream",
     "text": [
      "💾 Saved 752 records for AZO to database\n",
      "⏳ Waiting 1 second...\n",
      "\n",
      "--- Processing AVB (52/502) ---\n",
      "🔄 Fetching data for AVB...\n",
      "✅ Successfully fetched 752 records for AVB\n",
      "\n",
      "--- Processing AVB (52/502) ---\n",
      "🔄 Fetching data for AVB...\n",
      "✅ Successfully fetched 752 records for AVB\n"
     ]
    },
    {
     "name": "stderr",
     "output_type": "stream",
     "text": [
      "/var/folders/yd/hjy7_qgx7516bfss7sldck_h0000gn/T/ipykernel_900/1041324049.py:99: FutureWarning: DataFrame.fillna with 'method' is deprecated and will raise in a future version. Use obj.ffill() or obj.bfill() instead.\n",
      "  stock_df = stock_df.fillna(method='ffill').fillna(method='bfill')\n"
     ]
    },
    {
     "name": "stdout",
     "output_type": "stream",
     "text": [
      "💾 Saved 752 records for AVB to database\n",
      "⏳ Waiting 1 second...\n",
      "\n",
      "--- Processing AVY (53/502) ---\n",
      "🔄 Fetching data for AVY...\n",
      "\n",
      "--- Processing AVY (53/502) ---\n",
      "🔄 Fetching data for AVY...\n"
     ]
    },
    {
     "name": "stderr",
     "output_type": "stream",
     "text": [
      "/var/folders/yd/hjy7_qgx7516bfss7sldck_h0000gn/T/ipykernel_900/1041324049.py:99: FutureWarning: DataFrame.fillna with 'method' is deprecated and will raise in a future version. Use obj.ffill() or obj.bfill() instead.\n",
      "  stock_df = stock_df.fillna(method='ffill').fillna(method='bfill')\n"
     ]
    },
    {
     "name": "stdout",
     "output_type": "stream",
     "text": [
      "✅ Successfully fetched 752 records for AVY\n",
      "💾 Saved 752 records for AVY to database\n",
      "⏳ Waiting 1 second...\n",
      "\n",
      "--- Processing AXON (54/502) ---\n",
      "🔄 Fetching data for AXON...\n",
      "✅ Successfully fetched 752 records for AXON\n",
      "\n",
      "--- Processing AXON (54/502) ---\n",
      "🔄 Fetching data for AXON...\n",
      "✅ Successfully fetched 752 records for AXON\n"
     ]
    },
    {
     "name": "stderr",
     "output_type": "stream",
     "text": [
      "/var/folders/yd/hjy7_qgx7516bfss7sldck_h0000gn/T/ipykernel_900/1041324049.py:99: FutureWarning: DataFrame.fillna with 'method' is deprecated and will raise in a future version. Use obj.ffill() or obj.bfill() instead.\n",
      "  stock_df = stock_df.fillna(method='ffill').fillna(method='bfill')\n"
     ]
    },
    {
     "name": "stdout",
     "output_type": "stream",
     "text": [
      "💾 Saved 752 records for AXON to database\n",
      "⏳ Waiting 1 second...\n",
      "\n",
      "--- Processing BKR (55/502) ---\n",
      "🔄 Fetching data for BKR...\n",
      "✅ Successfully fetched 752 records for BKR\n",
      "\n",
      "--- Processing BKR (55/502) ---\n",
      "🔄 Fetching data for BKR...\n",
      "✅ Successfully fetched 752 records for BKR\n"
     ]
    },
    {
     "name": "stderr",
     "output_type": "stream",
     "text": [
      "/var/folders/yd/hjy7_qgx7516bfss7sldck_h0000gn/T/ipykernel_900/1041324049.py:99: FutureWarning: DataFrame.fillna with 'method' is deprecated and will raise in a future version. Use obj.ffill() or obj.bfill() instead.\n",
      "  stock_df = stock_df.fillna(method='ffill').fillna(method='bfill')\n"
     ]
    },
    {
     "name": "stdout",
     "output_type": "stream",
     "text": [
      "💾 Saved 752 records for BKR to database\n",
      "⏳ Waiting 1 second...\n",
      "\n",
      "--- Processing BALL (56/502) ---\n",
      "🔄 Fetching data for BALL...\n",
      "✅ Successfully fetched 752 records for BALL\n",
      "\n",
      "--- Processing BALL (56/502) ---\n",
      "🔄 Fetching data for BALL...\n",
      "✅ Successfully fetched 752 records for BALL\n"
     ]
    },
    {
     "name": "stderr",
     "output_type": "stream",
     "text": [
      "/var/folders/yd/hjy7_qgx7516bfss7sldck_h0000gn/T/ipykernel_900/1041324049.py:99: FutureWarning: DataFrame.fillna with 'method' is deprecated and will raise in a future version. Use obj.ffill() or obj.bfill() instead.\n",
      "  stock_df = stock_df.fillna(method='ffill').fillna(method='bfill')\n"
     ]
    },
    {
     "name": "stdout",
     "output_type": "stream",
     "text": [
      "💾 Saved 752 records for BALL to database\n",
      "⏳ Waiting 1 second...\n",
      "\n",
      "--- Processing BAC (57/502) ---\n",
      "🔄 Fetching data for BAC...\n",
      "\n",
      "--- Processing BAC (57/502) ---\n",
      "🔄 Fetching data for BAC...\n"
     ]
    },
    {
     "name": "stderr",
     "output_type": "stream",
     "text": [
      "/var/folders/yd/hjy7_qgx7516bfss7sldck_h0000gn/T/ipykernel_900/1041324049.py:99: FutureWarning: DataFrame.fillna with 'method' is deprecated and will raise in a future version. Use obj.ffill() or obj.bfill() instead.\n",
      "  stock_df = stock_df.fillna(method='ffill').fillna(method='bfill')\n"
     ]
    },
    {
     "name": "stdout",
     "output_type": "stream",
     "text": [
      "✅ Successfully fetched 752 records for BAC\n",
      "💾 Saved 752 records for BAC to database\n",
      "⏳ Waiting 1 second...\n",
      "\n",
      "--- Processing BAX (58/502) ---\n",
      "🔄 Fetching data for BAX...\n",
      "✅ Successfully fetched 752 records for BAX\n",
      "\n",
      "--- Processing BAX (58/502) ---\n",
      "🔄 Fetching data for BAX...\n",
      "✅ Successfully fetched 752 records for BAX\n"
     ]
    },
    {
     "name": "stderr",
     "output_type": "stream",
     "text": [
      "/var/folders/yd/hjy7_qgx7516bfss7sldck_h0000gn/T/ipykernel_900/1041324049.py:99: FutureWarning: DataFrame.fillna with 'method' is deprecated and will raise in a future version. Use obj.ffill() or obj.bfill() instead.\n",
      "  stock_df = stock_df.fillna(method='ffill').fillna(method='bfill')\n"
     ]
    },
    {
     "name": "stdout",
     "output_type": "stream",
     "text": [
      "💾 Saved 752 records for BAX to database\n",
      "⏳ Waiting 1 second...\n",
      "\n",
      "--- Processing BDX (59/502) ---\n",
      "🔄 Fetching data for BDX...\n",
      "\n",
      "--- Processing BDX (59/502) ---\n",
      "🔄 Fetching data for BDX...\n"
     ]
    },
    {
     "name": "stderr",
     "output_type": "stream",
     "text": [
      "/var/folders/yd/hjy7_qgx7516bfss7sldck_h0000gn/T/ipykernel_900/1041324049.py:99: FutureWarning: DataFrame.fillna with 'method' is deprecated and will raise in a future version. Use obj.ffill() or obj.bfill() instead.\n",
      "  stock_df = stock_df.fillna(method='ffill').fillna(method='bfill')\n"
     ]
    },
    {
     "name": "stdout",
     "output_type": "stream",
     "text": [
      "✅ Successfully fetched 752 records for BDX\n",
      "💾 Saved 752 records for BDX to database\n",
      "⏳ Waiting 1 second...\n",
      "\n",
      "--- Processing BRK.B (60/502) ---\n",
      "🔄 Fetching data for BRK.B...\n",
      "❌ Network error for BRK.B: 404 Client Error: Not Found for url: https://query1.finance.yahoo.com/v8/finance/chart/BRK.B?period1=1657237004&period2=1751931404&interval=1d&events=history\n",
      "⏳ Waiting 1 second...\n",
      "\n",
      "--- Processing BRK.B (60/502) ---\n",
      "🔄 Fetching data for BRK.B...\n",
      "❌ Network error for BRK.B: 404 Client Error: Not Found for url: https://query1.finance.yahoo.com/v8/finance/chart/BRK.B?period1=1657237004&period2=1751931404&interval=1d&events=history\n",
      "⏳ Waiting 1 second...\n",
      "\n",
      "--- Processing BBY (61/502) ---\n",
      "🔄 Fetching data for BBY...\n",
      "✅ Successfully fetched 752 records for BBY\n",
      "\n",
      "--- Processing BBY (61/502) ---\n",
      "🔄 Fetching data for BBY...\n",
      "✅ Successfully fetched 752 records for BBY\n"
     ]
    },
    {
     "name": "stderr",
     "output_type": "stream",
     "text": [
      "/var/folders/yd/hjy7_qgx7516bfss7sldck_h0000gn/T/ipykernel_900/1041324049.py:99: FutureWarning: DataFrame.fillna with 'method' is deprecated and will raise in a future version. Use obj.ffill() or obj.bfill() instead.\n",
      "  stock_df = stock_df.fillna(method='ffill').fillna(method='bfill')\n"
     ]
    },
    {
     "name": "stdout",
     "output_type": "stream",
     "text": [
      "💾 Saved 752 records for BBY to database\n",
      "⏳ Waiting 1 second...\n",
      "\n",
      "--- Processing TECH (62/502) ---\n",
      "🔄 Fetching data for TECH...\n",
      "✅ Successfully fetched 752 records for TECH\n",
      "\n",
      "--- Processing TECH (62/502) ---\n",
      "🔄 Fetching data for TECH...\n",
      "✅ Successfully fetched 752 records for TECH\n"
     ]
    },
    {
     "name": "stderr",
     "output_type": "stream",
     "text": [
      "/var/folders/yd/hjy7_qgx7516bfss7sldck_h0000gn/T/ipykernel_900/1041324049.py:99: FutureWarning: DataFrame.fillna with 'method' is deprecated and will raise in a future version. Use obj.ffill() or obj.bfill() instead.\n",
      "  stock_df = stock_df.fillna(method='ffill').fillna(method='bfill')\n"
     ]
    },
    {
     "name": "stdout",
     "output_type": "stream",
     "text": [
      "💾 Saved 752 records for TECH to database\n",
      "⏳ Waiting 1 second...\n",
      "\n",
      "--- Processing BIIB (63/502) ---\n",
      "🔄 Fetching data for BIIB...\n",
      "✅ Successfully fetched 752 records for BIIB\n",
      "\n",
      "--- Processing BIIB (63/502) ---\n",
      "🔄 Fetching data for BIIB...\n",
      "✅ Successfully fetched 752 records for BIIB\n"
     ]
    },
    {
     "name": "stderr",
     "output_type": "stream",
     "text": [
      "/var/folders/yd/hjy7_qgx7516bfss7sldck_h0000gn/T/ipykernel_900/1041324049.py:99: FutureWarning: DataFrame.fillna with 'method' is deprecated and will raise in a future version. Use obj.ffill() or obj.bfill() instead.\n",
      "  stock_df = stock_df.fillna(method='ffill').fillna(method='bfill')\n"
     ]
    },
    {
     "name": "stdout",
     "output_type": "stream",
     "text": [
      "💾 Saved 752 records for BIIB to database\n",
      "⏳ Waiting 1 second...\n",
      "\n",
      "--- Processing BLK (64/502) ---\n",
      "🔄 Fetching data for BLK...\n",
      "✅ Successfully fetched 752 records for BLK\n",
      "\n",
      "--- Processing BLK (64/502) ---\n",
      "🔄 Fetching data for BLK...\n",
      "✅ Successfully fetched 752 records for BLK\n"
     ]
    },
    {
     "name": "stderr",
     "output_type": "stream",
     "text": [
      "/var/folders/yd/hjy7_qgx7516bfss7sldck_h0000gn/T/ipykernel_900/1041324049.py:99: FutureWarning: DataFrame.fillna with 'method' is deprecated and will raise in a future version. Use obj.ffill() or obj.bfill() instead.\n",
      "  stock_df = stock_df.fillna(method='ffill').fillna(method='bfill')\n"
     ]
    },
    {
     "name": "stdout",
     "output_type": "stream",
     "text": [
      "💾 Saved 752 records for BLK to database\n",
      "⏳ Waiting 1 second...\n",
      "\n",
      "--- Processing BX (65/502) ---\n",
      "🔄 Fetching data for BX...\n",
      "✅ Successfully fetched 752 records for BX\n",
      "\n",
      "--- Processing BX (65/502) ---\n",
      "🔄 Fetching data for BX...\n",
      "✅ Successfully fetched 752 records for BX\n"
     ]
    },
    {
     "name": "stderr",
     "output_type": "stream",
     "text": [
      "/var/folders/yd/hjy7_qgx7516bfss7sldck_h0000gn/T/ipykernel_900/1041324049.py:99: FutureWarning: DataFrame.fillna with 'method' is deprecated and will raise in a future version. Use obj.ffill() or obj.bfill() instead.\n",
      "  stock_df = stock_df.fillna(method='ffill').fillna(method='bfill')\n"
     ]
    },
    {
     "name": "stdout",
     "output_type": "stream",
     "text": [
      "💾 Saved 752 records for BX to database\n",
      "⏳ Waiting 1 second...\n",
      "\n",
      "--- Processing XYZ (66/502) ---\n",
      "🔄 Fetching data for XYZ...\n",
      "✅ Successfully fetched 752 records for XYZ\n",
      "💾 Saved 752 records for XYZ to database\n",
      "⏳ Waiting 1 second...\n",
      "\n",
      "--- Processing XYZ (66/502) ---\n",
      "🔄 Fetching data for XYZ...\n",
      "✅ Successfully fetched 752 records for XYZ\n",
      "💾 Saved 752 records for XYZ to database\n",
      "⏳ Waiting 1 second...\n"
     ]
    },
    {
     "name": "stderr",
     "output_type": "stream",
     "text": [
      "/var/folders/yd/hjy7_qgx7516bfss7sldck_h0000gn/T/ipykernel_900/1041324049.py:99: FutureWarning: DataFrame.fillna with 'method' is deprecated and will raise in a future version. Use obj.ffill() or obj.bfill() instead.\n",
      "  stock_df = stock_df.fillna(method='ffill').fillna(method='bfill')\n"
     ]
    },
    {
     "name": "stdout",
     "output_type": "stream",
     "text": [
      "\n",
      "--- Processing BK (67/502) ---\n",
      "🔄 Fetching data for BK...\n"
     ]
    },
    {
     "name": "stderr",
     "output_type": "stream",
     "text": [
      "/var/folders/yd/hjy7_qgx7516bfss7sldck_h0000gn/T/ipykernel_900/1041324049.py:99: FutureWarning: DataFrame.fillna with 'method' is deprecated and will raise in a future version. Use obj.ffill() or obj.bfill() instead.\n",
      "  stock_df = stock_df.fillna(method='ffill').fillna(method='bfill')\n"
     ]
    },
    {
     "name": "stdout",
     "output_type": "stream",
     "text": [
      "✅ Successfully fetched 752 records for BK\n",
      "💾 Saved 752 records for BK to database\n",
      "⏳ Waiting 1 second...\n",
      "\n",
      "--- Processing BA (68/502) ---\n",
      "🔄 Fetching data for BA...\n",
      "\n",
      "--- Processing BA (68/502) ---\n",
      "🔄 Fetching data for BA...\n"
     ]
    },
    {
     "name": "stderr",
     "output_type": "stream",
     "text": [
      "/var/folders/yd/hjy7_qgx7516bfss7sldck_h0000gn/T/ipykernel_900/1041324049.py:99: FutureWarning: DataFrame.fillna with 'method' is deprecated and will raise in a future version. Use obj.ffill() or obj.bfill() instead.\n",
      "  stock_df = stock_df.fillna(method='ffill').fillna(method='bfill')\n"
     ]
    },
    {
     "name": "stdout",
     "output_type": "stream",
     "text": [
      "✅ Successfully fetched 752 records for BA\n",
      "💾 Saved 752 records for BA to database\n",
      "⏳ Waiting 1 second...\n",
      "\n",
      "--- Processing BKNG (69/502) ---\n",
      "🔄 Fetching data for BKNG...\n",
      "✅ Successfully fetched 752 records for BKNG\n",
      "\n",
      "--- Processing BKNG (69/502) ---\n",
      "🔄 Fetching data for BKNG...\n",
      "✅ Successfully fetched 752 records for BKNG\n"
     ]
    },
    {
     "name": "stderr",
     "output_type": "stream",
     "text": [
      "/var/folders/yd/hjy7_qgx7516bfss7sldck_h0000gn/T/ipykernel_900/1041324049.py:99: FutureWarning: DataFrame.fillna with 'method' is deprecated and will raise in a future version. Use obj.ffill() or obj.bfill() instead.\n",
      "  stock_df = stock_df.fillna(method='ffill').fillna(method='bfill')\n"
     ]
    },
    {
     "name": "stdout",
     "output_type": "stream",
     "text": [
      "💾 Saved 752 records for BKNG to database\n",
      "⏳ Waiting 1 second...\n",
      "\n",
      "--- Processing BSX (70/502) ---\n",
      "🔄 Fetching data for BSX...\n",
      "✅ Successfully fetched 752 records for BSX\n",
      "\n",
      "--- Processing BSX (70/502) ---\n",
      "🔄 Fetching data for BSX...\n",
      "✅ Successfully fetched 752 records for BSX\n"
     ]
    },
    {
     "name": "stderr",
     "output_type": "stream",
     "text": [
      "/var/folders/yd/hjy7_qgx7516bfss7sldck_h0000gn/T/ipykernel_900/1041324049.py:99: FutureWarning: DataFrame.fillna with 'method' is deprecated and will raise in a future version. Use obj.ffill() or obj.bfill() instead.\n",
      "  stock_df = stock_df.fillna(method='ffill').fillna(method='bfill')\n"
     ]
    },
    {
     "name": "stdout",
     "output_type": "stream",
     "text": [
      "💾 Saved 752 records for BSX to database\n",
      "⏳ Waiting 1 second...\n",
      "\n",
      "--- Processing BMY (71/502) ---\n",
      "🔄 Fetching data for BMY...\n",
      "\n",
      "--- Processing BMY (71/502) ---\n",
      "🔄 Fetching data for BMY...\n"
     ]
    },
    {
     "name": "stderr",
     "output_type": "stream",
     "text": [
      "/var/folders/yd/hjy7_qgx7516bfss7sldck_h0000gn/T/ipykernel_900/1041324049.py:99: FutureWarning: DataFrame.fillna with 'method' is deprecated and will raise in a future version. Use obj.ffill() or obj.bfill() instead.\n",
      "  stock_df = stock_df.fillna(method='ffill').fillna(method='bfill')\n"
     ]
    },
    {
     "name": "stdout",
     "output_type": "stream",
     "text": [
      "✅ Successfully fetched 752 records for BMY\n",
      "💾 Saved 752 records for BMY to database\n",
      "⏳ Waiting 1 second...\n",
      "\n",
      "--- Processing AVGO (72/502) ---\n",
      "🔄 Fetching data for AVGO...\n",
      "✅ Successfully fetched 752 records for AVGO\n",
      "\n",
      "--- Processing AVGO (72/502) ---\n",
      "🔄 Fetching data for AVGO...\n",
      "✅ Successfully fetched 752 records for AVGO\n"
     ]
    },
    {
     "name": "stderr",
     "output_type": "stream",
     "text": [
      "/var/folders/yd/hjy7_qgx7516bfss7sldck_h0000gn/T/ipykernel_900/1041324049.py:99: FutureWarning: DataFrame.fillna with 'method' is deprecated and will raise in a future version. Use obj.ffill() or obj.bfill() instead.\n",
      "  stock_df = stock_df.fillna(method='ffill').fillna(method='bfill')\n"
     ]
    },
    {
     "name": "stdout",
     "output_type": "stream",
     "text": [
      "💾 Saved 752 records for AVGO to database\n",
      "⏳ Waiting 1 second...\n"
     ]
    },
    {
     "ename": "KeyboardInterrupt",
     "evalue": "",
     "output_type": "error",
     "traceback": [
      "\u001b[31m---------------------------------------------------------------------------\u001b[39m",
      "\u001b[31mKeyboardInterrupt\u001b[39m                         Traceback (most recent call last)",
      "\u001b[36mCell\u001b[39m\u001b[36m \u001b[39m\u001b[32mIn[6]\u001b[39m\u001b[32m, line 162\u001b[39m\n\u001b[32m    160\u001b[39m     \u001b[38;5;28;01mif\u001b[39;00m i < \u001b[38;5;28mlen\u001b[39m(symbols):\n\u001b[32m    161\u001b[39m         \u001b[38;5;28mprint\u001b[39m(\u001b[33m\"\u001b[39m\u001b[33m⏳ Waiting 1 second...\u001b[39m\u001b[33m\"\u001b[39m)\n\u001b[32m--> \u001b[39m\u001b[32m162\u001b[39m         \u001b[43mtime\u001b[49m\u001b[43m.\u001b[49m\u001b[43msleep\u001b[49m\u001b[43m(\u001b[49m\u001b[32;43m1\u001b[39;49m\u001b[43m)\u001b[49m\n\u001b[32m    164\u001b[39m \u001b[38;5;66;03m# Summary\u001b[39;00m\n\u001b[32m    165\u001b[39m \u001b[38;5;28mprint\u001b[39m(\u001b[33mf\u001b[39m\u001b[33m\"\u001b[39m\u001b[38;5;130;01m\\n\u001b[39;00m\u001b[33m🎉 Processing completed!\u001b[39m\u001b[33m\"\u001b[39m)\n",
      "\u001b[31mKeyboardInterrupt\u001b[39m: "
     ]
    }
   ],
   "source": [
    "import requests\n",
    "import pandas as pd\n",
    "from pyspark.sql import SparkSession\n",
    "import time\n",
    "\n",
    "# Initialize Spark Session\n",
    "spark_session = SparkSession.builder \\\n",
    "    .appName(\"PySpark S&P 500 Data Loader\") \\\n",
    "    .config(\"spark.jars\", \"/Users/matthewyip/bootcamp-python/bootcamp-python/postgresql-42.7.7.jar\") \\\n",
    "    .getOrCreate()\n",
    "\n",
    "# Database connection configuration\n",
    "\n",
    "#Auto-incrementing ID\n",
    "\n",
    "jdbc_url = \"jdbc:postgresql://localhost:5432/bootcamp_2504p\"\n",
    "\n",
    "connection_properties = {\n",
    "    \"user\": \"postgres\",\n",
    "    \"password\": \"admin1234\",\n",
    "    \"driver\": \"org.postgresql.Driver\"\n",
    "}\n",
    "\n",
    "# Call API to load S&P 500 symbols\n",
    "print(\"📊 Fetching S&P 500 symbols...\")\n",
    "url = \"https://raw.githubusercontent.com/datasets/s-and-p-500-companies/main/data/constituents.csv\"\n",
    "symbols_df = pd.read_csv(url)\n",
    "symbols = symbols_df[\"Symbol\"].tolist()\n",
    "print(f\"✅ Found {len(symbols)} S&P 500 symbols\")\n",
    "print(f\"First 10 symbols: {symbols[:10]}\")\n",
    "\n",
    "# Create the main table once (not for each symbol)\n",
    "print(\"\\n🗄️ Creating stock_ohlcs table...\")\n",
    "try:\n",
    "    # Create table in PostgreSQL via JDBC\n",
    "    create_table_query = \"\"\"\n",
    "    CREATE TABLE IF NOT EXISTS stock_ohlcs (\n",
    "        symbol VARCHAR(10),\n",
    "        date DATE,\n",
    "        low LONG,\n",
    "        high LONG,\n",
    "        open LONG,\n",
    "        close LONG,\n",
    "        volume LONG,\n",
    "        created_at TIMESTAMP DEFAULT CURRENT_TIMESTAMP,\n",
    "        PRIMARY KEY (symbol, date)\n",
    "    )\n",
    "    \"\"\"\n",
    "    \n",
    "    # Note: You need to execute this SQL directly in your PostgreSQL database\n",
    "    print(\"⚠️ Please run this SQL in your PostgreSQL database:\")\n",
    "    print(create_table_query)\n",
    "    \n",
    "except Exception as e:\n",
    "    print(f\"❌ Error creating table: {e}\")\n",
    "\n",
    "def fetch_stock_data(symbol, start_period=\"1657237004\", end_period=\"1751931404\"):\n",
    "    \"\"\"\n",
    "    Fetch stock data for a given symbol using proper error handling\n",
    "    \"\"\"\n",
    "    try:\n",
    "        # Build API URL using f-string for better syntax highlighting\n",
    "        api_url = f\"https://query1.finance.yahoo.com/v8/finance/chart/{symbol}?period1={start_period}&period2={end_period}&interval=1d&events=history\"\n",
    "        \n",
    "        # Set proper headers\n",
    "        headers = {\n",
    "            \"User-Agent\": \"Mozilla/5.0\"\n",
    "        }\n",
    "        \n",
    "        print(f\"🔄 Fetching data for {symbol}...\")\n",
    "        response = requests.get(api_url, headers=headers)\n",
    "        response.raise_for_status()  # Raise exception for bad status codes\n",
    "        \n",
    "        data = response.json()\n",
    "        \n",
    "        # Validate response structure\n",
    "        if \"chart\" not in data or not data[\"chart\"][\"result\"]:\n",
    "            print(f\"⚠️ No data available for {symbol}\")\n",
    "            return None\n",
    "            \n",
    "        result = data[\"chart\"][\"result\"][0]\n",
    "        \n",
    "        # Extract price data\n",
    "        timestamp = pd.Series(result[\"timestamp\"])\n",
    "        quote = result[\"indicators\"][\"quote\"][0]\n",
    "        \n",
    "        # Create DataFrame\n",
    "        stock_df = pd.DataFrame({\n",
    "            \"symbol\": [symbol] * len(timestamp),\n",
    "            \"date\": pd.to_datetime(timestamp, unit=\"s\").dt.date,\n",
    "            \"low\": pd.Series(quote[\"low\"]),\n",
    "            \"high\": pd.Series(quote[\"high\"]),\n",
    "            \"open\": pd.Series(quote[\"open\"]),\n",
    "            \"close\": pd.Series(quote[\"close\"]),\n",
    "            \"volume\": pd.Series(quote[\"volume\"])\n",
    "        })\n",
    "        \n",
    "        # Handle null values\n",
    "        stock_df = stock_df.fillna(method='ffill').fillna(method='bfill')\n",
    "        \n",
    "        print(f\"✅ Successfully fetched {len(stock_df)} records for {symbol}\")\n",
    "        return stock_df\n",
    "        \n",
    "    except requests.exceptions.RequestException as e:\n",
    "        print(f\"❌ Network error for {symbol}: {e}\")\n",
    "        return None\n",
    "    except KeyError as e:\n",
    "        print(f\"❌ Data structure error for {symbol}: {e}\")\n",
    "        return None\n",
    "    except Exception as e:\n",
    "        print(f\"❌ Unexpected error for {symbol}: {e}\")\n",
    "        return None\n",
    "\n",
    "def save_to_database(dataframe, symbol):\n",
    "    \"\"\"\n",
    "    Save DataFrame to PostgreSQL database using Spark\n",
    "    \"\"\"\n",
    "    try:\n",
    "        # Convert to Spark DataFrame\n",
    "        spark_df = spark_session.createDataFrame(dataframe)\n",
    "        \n",
    "        # Write to database\n",
    "        spark_df.write.jdbc(\n",
    "            url=jdbc_url,\n",
    "            table=\"stock_ohlcs\",\n",
    "            mode=\"append\",\n",
    "            properties=connection_properties\n",
    "        )\n",
    "        \n",
    "        print(f\"💾 Saved {len(dataframe)} records for {symbol} to database\")\n",
    "        return True\n",
    "        \n",
    "    except Exception as e:\n",
    "        print(f\"❌ Database error for {symbol}: {e}\")\n",
    "        return False\n",
    "\n",
    "# Process symbols with proper error handling and rate limiting\n",
    "print(f\"\\n🚀 Starting to process {len(symbols)} symbols...\")\n",
    "\n",
    "successful_count = 0\n",
    "failed_symbols = []\n",
    "\n",
    "# Process ALL symbols (removed [:5] limit)\n",
    "for i, symbol in enumerate(symbols, 1):\n",
    "    print(f\"\\n--- Processing {symbol} ({i}/{len(symbols)}) ---\")\n",
    "    \n",
    "    # Fetch stock data\n",
    "    stock_data = fetch_stock_data(symbol)\n",
    "    \n",
    "    if stock_data is not None:\n",
    "        # Save to database\n",
    "        if save_to_database(stock_data, symbol):\n",
    "            successful_count += 1\n",
    "        else:\n",
    "            failed_symbols.append(symbol)\n",
    "    else:\n",
    "        failed_symbols.append(symbol)\n",
    "    \n",
    "    # Rate limiting - pause between requests\n",
    "    if i < len(symbols):\n",
    "        print(\"⏳ Waiting 1 second...\")\n",
    "        time.sleep(1)\n",
    "\n",
    "# Summary\n",
    "print(f\"\\n🎉 Processing completed!\")\n",
    "print(f\"✅ Successfully processed: {successful_count} symbols\")\n",
    "print(f\"❌ Failed symbols: {len(failed_symbols)}\")\n",
    "\n",
    "if failed_symbols:\n",
    "    print(f\"Failed symbols: {failed_symbols}\")\n",
    "\n",
    "print(f\"\\n📈 Stock data loaded into 'stock_ohlcs' table!\")"
   ]
  }
 ],
 "metadata": {
  "kernelspec": {
   "display_name": ".venv",
   "language": "python",
   "name": "python3"
  },
  "language_info": {
   "codemirror_mode": {
    "name": "ipython",
    "version": 3
   },
   "file_extension": ".py",
   "mimetype": "text/x-python",
   "name": "python",
   "nbconvert_exporter": "python",
   "pygments_lexer": "ipython3",
   "version": "3.13.5"
  }
 },
 "nbformat": 4,
 "nbformat_minor": 5
}
