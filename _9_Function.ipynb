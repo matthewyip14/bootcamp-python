{
 "cells": [
  {
   "cell_type": "code",
   "execution_count": 2,
   "id": "a93c4726",
   "metadata": {},
   "outputs": [
    {
     "name": "stdout",
     "output_type": "stream",
     "text": [
      "Hello!\n"
     ]
    }
   ],
   "source": [
    "def say_hello():\n",
    "  print(\"Hello!\")\n",
    "\n",
    "say_hello()"
   ]
  },
  {
   "cell_type": "code",
   "execution_count": 5,
   "id": "aa7c1b8d",
   "metadata": {},
   "outputs": [
    {
     "name": "stdout",
     "output_type": "stream",
     "text": [
      "14\n",
      "-1\n"
     ]
    }
   ],
   "source": [
    "def sum(x, y):\n",
    "    return x + y\n",
    "\n",
    "print(sum(10, 4))\n",
    "print(sum(-5, 4))"
   ]
  },
  {
   "cell_type": "code",
   "execution_count": 7,
   "id": "e2a41274",
   "metadata": {},
   "outputs": [
    {
     "name": "stdout",
     "output_type": "stream",
     "text": [
      "Max: 100, Min: -5\n"
     ]
    }
   ],
   "source": [
    "#Python return more than one value\n",
    "numbers = [90, -5, 3, 9, 100]\n",
    "def get_min_max(nums):\n",
    "    return min(nums), max(nums)\n",
    "\n",
    "min, max = get_min_max(numbers)\n",
    "print(f\"Max: {max}, Min: {min}\")"
   ]
  },
  {
   "cell_type": "code",
   "execution_count": 9,
   "id": "65426e13",
   "metadata": {},
   "outputs": [
    {
     "name": "stdout",
     "output_type": "stream",
     "text": [
      "9\n",
      "39.4\n",
      "51.12044600744403\n"
     ]
    }
   ],
   "source": [
    "import statistics\n",
    "\n",
    "def get_stats(nums):\n",
    "    return statistics.median(nums), statistics.mean(nums), statistics.stdev(nums)\n",
    "\n",
    "median, mean, sd = get_stats(numbers)\n",
    "print(median)\n",
    "print(mean)\n",
    "print(sd)"
   ]
  },
  {
   "cell_type": "code",
   "execution_count": 11,
   "id": "ff8dde81",
   "metadata": {},
   "outputs": [
    {
     "name": "stdout",
     "output_type": "stream",
     "text": [
      "Hello, Jennie!\n",
      "Hello, Jacky!\n"
     ]
    }
   ],
   "source": [
    "def greeting(name=\"Jacky\"):\n",
    "  print(f\"Hello, {name}!\")\n",
    "\n",
    "greeting(\"Jennie\")\n",
    "greeting()"
   ]
  },
  {
   "cell_type": "code",
   "execution_count": 14,
   "id": "6fb751eb",
   "metadata": {},
   "outputs": [
    {
     "name": "stdout",
     "output_type": "stream",
     "text": [
      "0.3\n",
      "0.30000000000000004\n"
     ]
    }
   ],
   "source": [
    "from decimal import Decimal\n",
    "total = Decimal(\"0.1\") + Decimal(\"0.2\")\n",
    "print(total)  # Output: 0.3\n",
    "\n",
    "print(0.1 + 0.2)  # Output: 0.30000000000000004"
   ]
  },
  {
   "cell_type": "code",
   "execution_count": 22,
   "id": "97cd1ea1",
   "metadata": {},
   "outputs": [
    {
     "name": "stdout",
     "output_type": "stream",
     "text": [
      "False\n",
      "True\n",
      "['Helen', 'Wing', 'John', 'Helen']\n",
      "['Helen', 'Wing', 'John']\n"
     ]
    }
   ],
   "source": [
    "# Write a function to detemine the given is an odd number\n",
    "\n",
    "def is_odd(num):\n",
    "    if num % 2 == 1:\n",
    "        return True\n",
    "    return False\n",
    "\n",
    "print(is_odd(100))  # Output: False\n",
    "print(is_odd(99))  # Output: True\n",
    "\n",
    "# list set\n",
    "names = [\"Helen\", \"Wing\", \"John\", \"Helen\"]\n",
    "print(names) # Output: ['Helen', 'Wing', 'John', 'Helen']\n",
    "print(list(set(names)))  # Output: ['Wing', 'John', 'Helen']"
   ]
  },
  {
   "cell_type": "code",
   "execution_count": 27,
   "id": "e8299993",
   "metadata": {},
   "outputs": [
    {
     "name": "stdout",
     "output_type": "stream",
     "text": [
      "64\n",
      "[10, 18, 60]\n",
      "['Jennie', 'Vincent', 'Jacky']\n"
     ]
    }
   ],
   "source": [
    "# Java Stream (lambda)\n",
    "\n",
    "square_formula = lambda x: x * x\n",
    "print(square_formula(8))  # Output: 64\n",
    "\n",
    "# filtering\n",
    "numbers = [7, 10, 5, 19, 3, 18, 60]\n",
    "even_numbers = list(filter(lambda x: x % 2 == 0, numbers))\n",
    "print(even_numbers)  # Output: [10, 18, 60]\n",
    "\n",
    "names = [\"Jennie\", \"Vincent\", \"Ann\", \"Jacky\"]\n",
    "# retain name length > 4\n",
    "name_list = list(filter(lambda x: len(x) > 4, names))\n",
    "print(name_list)  # Output: ['Jennie', 'Vincent', 'Jacky']"
   ]
  }
 ],
 "metadata": {
  "kernelspec": {
   "display_name": ".venv",
   "language": "python",
   "name": "python3"
  },
  "language_info": {
   "codemirror_mode": {
    "name": "ipython",
    "version": 3
   },
   "file_extension": ".py",
   "mimetype": "text/x-python",
   "name": "python",
   "nbconvert_exporter": "python",
   "pygments_lexer": "ipython3",
   "version": "3.13.5"
  }
 },
 "nbformat": 4,
 "nbformat_minor": 5
}
