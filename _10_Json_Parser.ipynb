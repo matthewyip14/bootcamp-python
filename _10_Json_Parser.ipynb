{
 "cells": [
  {
   "cell_type": "code",
   "execution_count": 2,
   "id": "c574c035",
   "metadata": {},
   "outputs": [
    {
     "name": "stdout",
     "output_type": "stream",
     "text": [
      "<class 'dict'>\n",
      "Vincent\n",
      "23\n",
      "{\n",
      "  \"name\": \"Vincent\",\n",
      "  \"age\": 23\n",
      "}\n"
     ]
    }
   ],
   "source": [
    "import json\n",
    "\n",
    "# from json String to dictionary\n",
    "json_str = '{\"name\": \"Vincent\", \"age\": 23}'\n",
    "output_dict = json.loads(json_str)\n",
    "print(type(output_dict))  # Output: <class 'dict'>\n",
    "print(output_dict['name'])  # Output: 'Vincent'\n",
    "print(output_dict['age'])  # Output: 23\n",
    "\n",
    "# from dictionary to json String\n",
    "json_string_output = json.dumps(output_dict, indent=2)\n",
    "print(json_string_output)"
   ]
  },
  {
   "cell_type": "code",
   "execution_count": 3,
   "id": "72fc64b9",
   "metadata": {},
   "outputs": [
    {
     "name": "stdout",
     "output_type": "stream",
     "text": [
      "{'username': 'jacky_chan', 'email': 'jackchan@gmail.com', 'admin': False}\n"
     ]
    }
   ],
   "source": [
    "# Read JSON file to String\n",
    "with open(\"user_jacky.json\", 'r') as file:\n",
    "  json_user = json.load(file)\n",
    "\n",
    "print(json_user)"
   ]
  },
  {
   "cell_type": "code",
   "execution_count": 4,
   "id": "1a873168",
   "metadata": {},
   "outputs": [],
   "source": [
    "# Write Dictionary to JSON file\n",
    "user_vincent = {\n",
    "  \"name\": \"vincent\",\n",
    "  \"age\": 23,\n",
    "  \"email\": \"vincentwong@gmail.com\"\n",
    "}\n",
    "\n",
    "with open(\"user_vincent.json\", 'w') as file:\n",
    "  json.dump(user_vincent, file, indent=2)"
   ]
  },
  {
   "cell_type": "code",
   "execution_count": 15,
   "id": "8afcfe4a",
   "metadata": {},
   "outputs": [
    {
     "name": "stdout",
     "output_type": "stream",
     "text": [
      "<class 'list'>\n",
      "<class 'list'>\n"
     ]
    }
   ],
   "source": [
    "# read users.json, find all admin (lmbda), and then write into another json file (user_admin.json)\n",
    "\n",
    "with open(\"users.json\", 'r') as file:\n",
    "  json_all_users = json.load(file)\n",
    "print(type(json_all_users))  # Output: List of users\n",
    "\n",
    "admin_users = list(filter(lambda user: user[\"admin\"] == True, json_all_users))\n",
    "print(type(admin_users))  # Output: List of admin users\n",
    "\n",
    "with open(\"admin_users.json\", 'w') as file:\n",
    "  json.dump(admin_users, file, indent=2)\n"
   ]
  },
  {
   "cell_type": "code",
   "execution_count": 23,
   "id": "98bc2d34",
   "metadata": {},
   "outputs": [
    {
     "name": "stdout",
     "output_type": "stream",
     "text": [
      "<class 'list'>\n",
      "['Jacky', 'Mary']\n"
     ]
    }
   ],
   "source": [
    "# read persons.json, find all persons with city \"new york\" (lmbda) and then map their name into a list, and then write into another json file (persons_name_newyork.json)\n",
    "\n",
    "with open(\"persons.json\", 'r') as file:\n",
    "  json_all_persons = json.load(file)\n",
    "print(type(json_all_persons))  # Output: List of persons\n",
    "\n",
    "persons_name_with_newyork = list(map(lambda person: person[\"name\"], filter(lambda person: person[\"address\"][\"city\"] == \"New York\", json_all_persons)))\n",
    "print(persons_name_with_newyork)  # Output: List of names\n",
    "\n",
    "with open(\"persons_name_newyork.json\", 'w') as file:\n",
    "  json.dump(persons_name_with_newyork, file, indent=2)"
   ]
  }
 ],
 "metadata": {
  "kernelspec": {
   "display_name": ".venv",
   "language": "python",
   "name": "python3"
  },
  "language_info": {
   "codemirror_mode": {
    "name": "ipython",
    "version": 3
   },
   "file_extension": ".py",
   "mimetype": "text/x-python",
   "name": "python",
   "nbconvert_exporter": "python",
   "pygments_lexer": "ipython3",
   "version": "3.13.5"
  }
 },
 "nbformat": 4,
 "nbformat_minor": 5
}
